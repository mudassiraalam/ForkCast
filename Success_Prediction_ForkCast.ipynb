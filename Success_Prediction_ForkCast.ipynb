{
 "cells": [
  {
   "cell_type": "code",
   "execution_count": 210,
   "id": "1ffb5bf0-6458-4d1b-85e4-d8c2482e118c",
   "metadata": {},
   "outputs": [],
   "source": [
    "import pandas as pd\n",
    "import numpy as np\n",
    "\n",
    "from sklearn.preprocessing import OneHotEncoder,MinMaxScaler , OrdinalEncoder,StandardScaler\n",
    "from sklearn.model_selection import train_test_split,GridSearchCV, cross_val_score\n",
    "from sklearn.compose import ColumnTransformer\n",
    "\n",
    "from sklearn.ensemble import BaggingRegressor, AdaBoostRegressor, RandomForestRegressor, GradientBoostingRegressor\n",
    "from sklearn.tree import DecisionTreeRegressor\n",
    "from xgboost import XGBRegressor\n",
    "\n",
    "from sklearn.metrics import r2_score,mean_squared_error \n",
    "\n",
    "import seaborn as sns"
   ]
  },
  {
   "cell_type": "code",
   "execution_count": 211,
   "id": "1005e26f-b8bd-496a-9472-3e601874875a",
   "metadata": {},
   "outputs": [
    {
     "data": {
      "text/html": [
       "<div>\n",
       "<style scoped>\n",
       "    .dataframe tbody tr th:only-of-type {\n",
       "        vertical-align: middle;\n",
       "    }\n",
       "\n",
       "    .dataframe tbody tr th {\n",
       "        vertical-align: top;\n",
       "    }\n",
       "\n",
       "    .dataframe thead th {\n",
       "        text-align: right;\n",
       "    }\n",
       "</style>\n",
       "<table border=\"1\" class=\"dataframe\">\n",
       "  <thead>\n",
       "    <tr style=\"text-align: right;\">\n",
       "      <th></th>\n",
       "      <th>url</th>\n",
       "      <th>address</th>\n",
       "      <th>name</th>\n",
       "      <th>online_order</th>\n",
       "      <th>book_table</th>\n",
       "      <th>rate</th>\n",
       "      <th>votes</th>\n",
       "      <th>phone</th>\n",
       "      <th>location</th>\n",
       "      <th>rest_type</th>\n",
       "      <th>dish_liked</th>\n",
       "      <th>cuisines</th>\n",
       "      <th>approx_cost(for two people)</th>\n",
       "      <th>reviews_list</th>\n",
       "      <th>menu_item</th>\n",
       "      <th>listed_in(type)</th>\n",
       "      <th>listed_in(city)</th>\n",
       "    </tr>\n",
       "  </thead>\n",
       "  <tbody>\n",
       "    <tr>\n",
       "      <th>4472</th>\n",
       "      <td>https://www.zomato.com/bangalore/eat-fit-bella...</td>\n",
       "      <td>39/12, 5th Main Road, Iblur Village, Outer Rin...</td>\n",
       "      <td>eat.fit</td>\n",
       "      <td>Yes</td>\n",
       "      <td>No</td>\n",
       "      <td>4.4/5</td>\n",
       "      <td>632</td>\n",
       "      <td>NaN</td>\n",
       "      <td>Bellandur</td>\n",
       "      <td>Delivery</td>\n",
       "      <td>Buddha Bowl, Chicken Curry, Brownie, Chole, Ve...</td>\n",
       "      <td>Healthy Food, North Indian, Biryani, Continent...</td>\n",
       "      <td>500</td>\n",
       "      <td>[('Rated 4.0', 'RATED\\n  IÃ\\x83Ã\\x83Ã\\x82Ã...</td>\n",
       "      <td>['Fruit Pop Oatmeal Bowl', 'Idli-Sambar With C...</td>\n",
       "      <td>Desserts</td>\n",
       "      <td>Bellandur</td>\n",
       "    </tr>\n",
       "    <tr>\n",
       "      <th>34924</th>\n",
       "      <td>https://www.zomato.com/bangalore/maa-bhook-lag...</td>\n",
       "      <td>927 H, 1st Floor, 1st A Main, Koramangala 4th ...</td>\n",
       "      <td>Maa Bhook Lagi</td>\n",
       "      <td>Yes</td>\n",
       "      <td>No</td>\n",
       "      <td>3.9 /5</td>\n",
       "      <td>297</td>\n",
       "      <td>+91 8197726028</td>\n",
       "      <td>Koramangala 4th Block</td>\n",
       "      <td>Takeaway, Delivery</td>\n",
       "      <td>Chole, Kheer, Biryani, Liti Chokha, Litti, Chu...</td>\n",
       "      <td>North Indian</td>\n",
       "      <td>400</td>\n",
       "      <td>[('Rated 4.0', 'RATED\\n  I have ordered a few ...</td>\n",
       "      <td>['Aloo Pyaz Ke Parathe', 'Veg MealBox', 'Panee...</td>\n",
       "      <td>Delivery</td>\n",
       "      <td>Koramangala 7th Block</td>\n",
       "    </tr>\n",
       "  </tbody>\n",
       "</table>\n",
       "</div>"
      ],
      "text/plain": [
       "                                                     url  \\\n",
       "4472   https://www.zomato.com/bangalore/eat-fit-bella...   \n",
       "34924  https://www.zomato.com/bangalore/maa-bhook-lag...   \n",
       "\n",
       "                                                 address            name  \\\n",
       "4472   39/12, 5th Main Road, Iblur Village, Outer Rin...         eat.fit   \n",
       "34924  927 H, 1st Floor, 1st A Main, Koramangala 4th ...  Maa Bhook Lagi   \n",
       "\n",
       "      online_order book_table    rate  votes           phone  \\\n",
       "4472           Yes         No   4.4/5    632             NaN   \n",
       "34924          Yes         No  3.9 /5    297  +91 8197726028   \n",
       "\n",
       "                    location           rest_type  \\\n",
       "4472               Bellandur            Delivery   \n",
       "34924  Koramangala 4th Block  Takeaway, Delivery   \n",
       "\n",
       "                                              dish_liked  \\\n",
       "4472   Buddha Bowl, Chicken Curry, Brownie, Chole, Ve...   \n",
       "34924  Chole, Kheer, Biryani, Liti Chokha, Litti, Chu...   \n",
       "\n",
       "                                                cuisines  \\\n",
       "4472   Healthy Food, North Indian, Biryani, Continent...   \n",
       "34924                                       North Indian   \n",
       "\n",
       "      approx_cost(for two people)  \\\n",
       "4472                          500   \n",
       "34924                         400   \n",
       "\n",
       "                                            reviews_list  \\\n",
       "4472   [('Rated 4.0', 'RATED\\n  IÃ\\x83Ã\\x83Ã\\x82Ã...   \n",
       "34924  [('Rated 4.0', 'RATED\\n  I have ordered a few ...   \n",
       "\n",
       "                                               menu_item listed_in(type)  \\\n",
       "4472   ['Fruit Pop Oatmeal Bowl', 'Idli-Sambar With C...        Desserts   \n",
       "34924  ['Aloo Pyaz Ke Parathe', 'Veg MealBox', 'Panee...        Delivery   \n",
       "\n",
       "             listed_in(city)  \n",
       "4472               Bellandur  \n",
       "34924  Koramangala 7th Block  "
      ]
     },
     "execution_count": 211,
     "metadata": {},
     "output_type": "execute_result"
    }
   ],
   "source": [
    "df = pd.read_csv('zomato.csv')\n",
    "df.sample(2)"
   ]
  },
  {
   "cell_type": "code",
   "execution_count": 212,
   "id": "bab298e6-82a8-4b93-bd42-c42efe9f9e34",
   "metadata": {},
   "outputs": [],
   "source": [
    "df = df[df['location'] != 'Peenya'] "
   ]
  },
  {
   "cell_type": "code",
   "execution_count": 213,
   "id": "cdd9dc31-8ce1-4f48-909c-cc398fe4b2b1",
   "metadata": {},
   "outputs": [
    {
     "data": {
      "text/plain": [
       "(51716, 17)"
      ]
     },
     "execution_count": 213,
     "metadata": {},
     "output_type": "execute_result"
    }
   ],
   "source": [
    "df.shape"
   ]
  },
  {
   "cell_type": "code",
   "execution_count": 214,
   "id": "ae0305e4-dd64-4a42-bb68-695de7487c09",
   "metadata": {},
   "outputs": [
    {
     "data": {
      "text/plain": [
       "url                                0\n",
       "address                            0\n",
       "name                               0\n",
       "online_order                       0\n",
       "book_table                         0\n",
       "rate                            7775\n",
       "votes                              0\n",
       "phone                           1208\n",
       "location                          21\n",
       "rest_type                        227\n",
       "dish_liked                     28077\n",
       "cuisines                          45\n",
       "approx_cost(for two people)      346\n",
       "reviews_list                       0\n",
       "menu_item                          0\n",
       "listed_in(type)                    0\n",
       "listed_in(city)                    0\n",
       "dtype: int64"
      ]
     },
     "execution_count": 214,
     "metadata": {},
     "output_type": "execute_result"
    }
   ],
   "source": [
    "df.isnull().sum()"
   ]
  },
  {
   "cell_type": "code",
   "execution_count": 215,
   "id": "323ea3e6-1a2d-4458-85eb-e035fe63f385",
   "metadata": {},
   "outputs": [
    {
     "name": "stdout",
     "output_type": "stream",
     "text": [
      "<class 'pandas.core.frame.DataFrame'>\n",
      "Index: 51716 entries, 0 to 51716\n",
      "Data columns (total 17 columns):\n",
      " #   Column                       Non-Null Count  Dtype \n",
      "---  ------                       --------------  ----- \n",
      " 0   url                          51716 non-null  object\n",
      " 1   address                      51716 non-null  object\n",
      " 2   name                         51716 non-null  object\n",
      " 3   online_order                 51716 non-null  object\n",
      " 4   book_table                   51716 non-null  object\n",
      " 5   rate                         43941 non-null  object\n",
      " 6   votes                        51716 non-null  int64 \n",
      " 7   phone                        50508 non-null  object\n",
      " 8   location                     51695 non-null  object\n",
      " 9   rest_type                    51489 non-null  object\n",
      " 10  dish_liked                   23639 non-null  object\n",
      " 11  cuisines                     51671 non-null  object\n",
      " 12  approx_cost(for two people)  51370 non-null  object\n",
      " 13  reviews_list                 51716 non-null  object\n",
      " 14  menu_item                    51716 non-null  object\n",
      " 15  listed_in(type)              51716 non-null  object\n",
      " 16  listed_in(city)              51716 non-null  object\n",
      "dtypes: int64(1), object(16)\n",
      "memory usage: 7.1+ MB\n"
     ]
    }
   ],
   "source": [
    "df.info()"
   ]
  },
  {
   "cell_type": "code",
   "execution_count": 216,
   "id": "b5fbef56-d5bc-4604-a7a8-f72b024f9e29",
   "metadata": {},
   "outputs": [],
   "source": [
    "df.duplicated().sum()\n",
    "df.drop_duplicates(inplace=True)"
   ]
  },
  {
   "cell_type": "code",
   "execution_count": 217,
   "id": "1f93af2c-a161-455e-a171-3905045fcd14",
   "metadata": {},
   "outputs": [
    {
     "data": {
      "text/plain": [
       "(51716, 17)"
      ]
     },
     "execution_count": 217,
     "metadata": {},
     "output_type": "execute_result"
    }
   ],
   "source": [
    "df.shape"
   ]
  },
  {
   "cell_type": "code",
   "execution_count": 218,
   "id": "4aa86b03-2c91-40aa-af68-b04a3d272555",
   "metadata": {},
   "outputs": [],
   "source": [
    "olddf = df[(df['rate'] != \"NEW\") & (df['rate'] != \"-\")]"
   ]
  },
  {
   "cell_type": "code",
   "execution_count": 219,
   "id": "7ad2b95a-1d5f-4015-bf15-9b4ca183ea05",
   "metadata": {},
   "outputs": [
    {
     "data": {
      "text/plain": [
       "(49439, 17)"
      ]
     },
     "execution_count": 219,
     "metadata": {},
     "output_type": "execute_result"
    }
   ],
   "source": [
    "olddf.shape"
   ]
  },
  {
   "cell_type": "code",
   "execution_count": 220,
   "id": "63244a71-7c87-4afd-9b8a-49be73223cd4",
   "metadata": {},
   "outputs": [],
   "source": [
    "newdf = df[(df['rate'] == \"NEW\") | (df['rate'] == \"-\")]"
   ]
  },
  {
   "cell_type": "code",
   "execution_count": 221,
   "id": "f6ec8bf8-43fb-4bfc-9c06-33850a030c51",
   "metadata": {},
   "outputs": [
    {
     "data": {
      "text/plain": [
       "(2277, 17)"
      ]
     },
     "execution_count": 221,
     "metadata": {},
     "output_type": "execute_result"
    }
   ],
   "source": [
    "newdf.shape"
   ]
  },
  {
   "cell_type": "code",
   "execution_count": 222,
   "id": "996acbc1-9379-4bc6-9c4b-8f2e6dfe3a50",
   "metadata": {},
   "outputs": [
    {
     "data": {
      "text/plain": [
       "url                                0\n",
       "address                            0\n",
       "name                               0\n",
       "online_order                       0\n",
       "book_table                         0\n",
       "rate                            7775\n",
       "votes                              0\n",
       "phone                           1190\n",
       "location                          21\n",
       "rest_type                        225\n",
       "dish_liked                     25947\n",
       "cuisines                          45\n",
       "approx_cost(for two people)      341\n",
       "reviews_list                       0\n",
       "menu_item                          0\n",
       "listed_in(type)                    0\n",
       "listed_in(city)                    0\n",
       "dtype: int64"
      ]
     },
     "execution_count": 222,
     "metadata": {},
     "output_type": "execute_result"
    }
   ],
   "source": [
    "olddf.isnull().sum()"
   ]
  },
  {
   "cell_type": "markdown",
   "id": "b2f597d7-7978-4d1a-af6b-dfa296c83193",
   "metadata": {},
   "source": [
    "## Data cleaning and handling missing values for olddf"
   ]
  },
  {
   "cell_type": "code",
   "execution_count": 223,
   "id": "94d9d0fd-4561-4ae9-9921-9e3bb9bfd6a7",
   "metadata": {},
   "outputs": [],
   "source": [
    "olddf['rate'] = olddf['rate'].str.replace('/5','',regex=False).astype(float)"
   ]
  },
  {
   "cell_type": "code",
   "execution_count": 224,
   "id": "42d2ec31-869f-47ff-b259-d6043176d921",
   "metadata": {},
   "outputs": [],
   "source": [
    "olddf= olddf.rename(columns={'approx_cost(for two people)':'cost','listed_in(type)':'type',\n",
    "                                  'listed_in(city)':'city'},)"
   ]
  },
  {
   "cell_type": "code",
   "execution_count": 225,
   "id": "81f6cdc0-7c05-43f9-a3ac-7d163686862e",
   "metadata": {},
   "outputs": [],
   "source": [
    "olddf['cost'] = olddf['cost'].str.replace(',','').astype(float)"
   ]
  },
  {
   "cell_type": "code",
   "execution_count": 226,
   "id": "af12c390-d2c7-44cb-b61e-2b21945aaaec",
   "metadata": {},
   "outputs": [
    {
     "data": {
      "text/plain": [
       "url                 0\n",
       "address             0\n",
       "name                0\n",
       "online_order        0\n",
       "book_table          0\n",
       "rate             7775\n",
       "votes               0\n",
       "phone            1190\n",
       "location           21\n",
       "rest_type         225\n",
       "dish_liked      25947\n",
       "cuisines           45\n",
       "cost              341\n",
       "reviews_list        0\n",
       "menu_item           0\n",
       "type                0\n",
       "city                0\n",
       "dtype: int64"
      ]
     },
     "execution_count": 226,
     "metadata": {},
     "output_type": "execute_result"
    }
   ],
   "source": [
    "olddf.isnull().sum()"
   ]
  },
  {
   "cell_type": "code",
   "execution_count": 227,
   "id": "a68b735b-3273-4e4c-b897-9f79504a3c7c",
   "metadata": {},
   "outputs": [],
   "source": [
    "olddf.dropna(subset=['cost'],inplace=True)"
   ]
  },
  {
   "cell_type": "code",
   "execution_count": 228,
   "id": "0fb364ed-3fc7-40ac-a2dc-dba7e9dd4848",
   "metadata": {},
   "outputs": [
    {
     "name": "stdout",
     "output_type": "stream",
     "text": [
      "<class 'pandas.core.frame.DataFrame'>\n",
      "Index: 49098 entries, 0 to 51716\n",
      "Data columns (total 17 columns):\n",
      " #   Column        Non-Null Count  Dtype  \n",
      "---  ------        --------------  -----  \n",
      " 0   url           49098 non-null  object \n",
      " 1   address       49098 non-null  object \n",
      " 2   name          49098 non-null  object \n",
      " 3   online_order  49098 non-null  object \n",
      " 4   book_table    49098 non-null  object \n",
      " 5   rate          41417 non-null  float64\n",
      " 6   votes         49098 non-null  int64  \n",
      " 7   phone         48237 non-null  object \n",
      " 8   location      49098 non-null  object \n",
      " 9   rest_type     48896 non-null  object \n",
      " 10  dish_liked    23356 non-null  object \n",
      " 11  cuisines      49079 non-null  object \n",
      " 12  cost          49098 non-null  float64\n",
      " 13  reviews_list  49098 non-null  object \n",
      " 14  menu_item     49098 non-null  object \n",
      " 15  type          49098 non-null  object \n",
      " 16  city          49098 non-null  object \n",
      "dtypes: float64(2), int64(1), object(14)\n",
      "memory usage: 6.7+ MB\n"
     ]
    }
   ],
   "source": [
    "olddf.info()"
   ]
  },
  {
   "cell_type": "markdown",
   "id": "61364af2-3ec1-4ab6-a02d-3485cf3027ad",
   "metadata": {},
   "source": [
    "## Checking distribution of rate wrt votes and cost"
   ]
  },
  {
   "cell_type": "code",
   "execution_count": 229,
   "id": "63471b0b-65be-4570-8db3-1f4418873a1b",
   "metadata": {},
   "outputs": [],
   "source": [
    "import seaborn as sns"
   ]
  },
  {
   "cell_type": "code",
   "execution_count": 230,
   "id": "057892d1-15fd-46a9-8590-bdcd6eab14c4",
   "metadata": {},
   "outputs": [
    {
     "data": {
      "text/plain": [
       "<Axes: xlabel='votes', ylabel='rate'>"
      ]
     },
     "execution_count": 230,
     "metadata": {},
     "output_type": "execute_result"
    },
    {
     "data": {
      "image/png": "[encoded data removed]",
      "text/plain": [
       "<Figure size 640x480 with 1 Axes>"
      ]
     },
     "metadata": {},
     "output_type": "display_data"
    }
   ],
   "source": [
    "sns.scatterplot(olddf,x='votes',y='rate')"
   ]
  },
  {
   "cell_type": "code",
   "execution_count": 231,
   "id": "c2440d05-7a1b-42a2-9f3e-4a024ef64733",
   "metadata": {},
   "outputs": [
    {
     "data": {
      "text/plain": [
       "<Axes: xlabel='cost', ylabel='rate'>"
      ]
     },
     "execution_count": 231,
     "metadata": {},
     "output_type": "execute_result"
    },
    {
     "data": {
      "image/png": "[encoded data removed]",
      "text/plain": [
       "<Figure size 640x480 with 1 Axes>"
      ]
     },
     "metadata": {},
     "output_type": "display_data"
    }
   ],
   "source": [
    "sns.scatterplot(olddf,x='cost',y='rate')"
   ]
  },
  {
   "cell_type": "markdown",
   "id": "13c54124-a995-4e09-977f-3cce341e0a49",
   "metadata": {},
   "source": [
    "### As the missing rate values are more than 15% using ml to fill them"
   ]
  },
  {
   "cell_type": "code",
   "execution_count": 232,
   "id": "1b50a7e7-daa3-4bea-be01-243feb47c9d3",
   "metadata": {},
   "outputs": [],
   "source": [
    "df_complete = olddf[olddf['rate'].notna()]\n",
    "df_missing = olddf[olddf['rate'].isna()]"
   ]
  },
  {
   "cell_type": "code",
   "execution_count": 233,
   "id": "70558778-664b-4130-8a6f-646d92cb8a40",
   "metadata": {},
   "outputs": [],
   "source": [
    "x = df_complete[['votes','cost']]\n",
    "y = df_complete['rate']"
   ]
  },
  {
   "cell_type": "code",
   "execution_count": 234,
   "id": "e179aba2-6e67-40a1-8b75-7772efbfca56",
   "metadata": {},
   "outputs": [],
   "source": [
    "from sklearn.model_selection import train_test_split"
   ]
  },
  {
   "cell_type": "code",
   "execution_count": 235,
   "id": "3764d3f5-938a-4b57-b603-f031bd2514f0",
   "metadata": {},
   "outputs": [],
   "source": [
    "x_train,x_test,y_train,y_test = train_test_split(x,y,test_size=0.15,random_state=42)"
   ]
  },
  {
   "cell_type": "code",
   "execution_count": 236,
   "id": "16dbabbb-1527-4142-8d2e-fe318afc1008",
   "metadata": {},
   "outputs": [
    {
     "data": {
      "text/html": [
       "<style>#sk-container-id-8 {\n",
       "  /* Definition of color scheme common for light and dark mode */\n",
       "  --sklearn-color-text: black;\n",
       "  --sklearn-color-line: gray;\n",
       "  /* Definition of color scheme for unfitted estimators */\n",
       "  --sklearn-color-unfitted-level-0: #fff5e6;\n",
       "  --sklearn-color-unfitted-level-1: #f6e4d2;\n",
       "  --sklearn-color-unfitted-level-2: #ffe0b3;\n",
       "  --sklearn-color-unfitted-level-3: chocolate;\n",
       "  /* Definition of color scheme for fitted estimators */\n",
       "  --sklearn-color-fitted-level-0: #f0f8ff;\n",
       "  --sklearn-color-fitted-level-1: #d4ebff;\n",
       "  --sklearn-color-fitted-level-2: #b3dbfd;\n",
       "  --sklearn-color-fitted-level-3: cornflowerblue;\n",
       "\n",
       "  /* Specific color for light theme */\n",
       "  --sklearn-color-text-on-default-background: var(--sg-text-color, var(--theme-code-foreground, var(--jp-content-font-color1, black)));\n",
       "  --sklearn-color-background: var(--sg-background-color, var(--theme-background, var(--jp-layout-color0, white)));\n",
       "  --sklearn-color-border-box: var(--sg-text-color, var(--theme-code-foreground, var(--jp-content-font-color1, black)));\n",
       "  --sklearn-color-icon: #696969;\n",
       "\n",
       "  @media (prefers-color-scheme: dark) {\n",
       "    /* Redefinition of color scheme for dark theme */\n",
       "    --sklearn-color-text-on-default-background: var(--sg-text-color, var(--theme-code-foreground, var(--jp-content-font-color1, white)));\n",
       "    --sklearn-color-background: var(--sg-background-color, var(--theme-background, var(--jp-layout-color0, #111)));\n",
       "    --sklearn-color-border-box: var(--sg-text-color, var(--theme-code-foreground, var(--jp-content-font-color1, white)));\n",
       "    --sklearn-color-icon: #878787;\n",
       "  }\n",
       "}\n",
       "\n",
       "#sk-container-id-8 {\n",
       "  color: var(--sklearn-color-text);\n",
       "}\n",
       "\n",
       "#sk-container-id-8 pre {\n",
       "  padding: 0;\n",
       "}\n",
       "\n",
       "#sk-container-id-8 input.sk-hidden--visually {\n",
       "  border: 0;\n",
       "  clip: rect(1px 1px 1px 1px);\n",
       "  clip: rect(1px, 1px, 1px, 1px);\n",
       "  height: 1px;\n",
       "  margin: -1px;\n",
       "  overflow: hidden;\n",
       "  padding: 0;\n",
       "  position: absolute;\n",
       "  width: 1px;\n",
       "}\n",
       "\n",
       "#sk-container-id-8 div.sk-dashed-wrapped {\n",
       "  border: 1px dashed var(--sklearn-color-line);\n",
       "  margin: 0 0.4em 0.5em 0.4em;\n",
       "  box-sizing: border-box;\n",
       "  padding-bottom: 0.4em;\n",
       "  background-color: var(--sklearn-color-background);\n",
       "}\n",
       "\n",
       "#sk-container-id-8 div.sk-container {\n",
       "  /* jupyter's `normalize.less` sets `[hidden] { display: none; }`\n",
       "     but bootstrap.min.css set `[hidden] { display: none !important; }`\n",
       "     so we also need the `!important` here to be able to override the\n",
       "     default hidden behavior on the sphinx rendered scikit-learn.org.\n",
       "     See: https://github.com/scikit-learn/scikit-learn/issues/21755 */\n",
       "  display: inline-block !important;\n",
       "  position: relative;\n",
       "}\n",
       "\n",
       "#sk-container-id-8 div.sk-text-repr-fallback {\n",
       "  display: none;\n",
       "}\n",
       "\n",
       "div.sk-parallel-item,\n",
       "div.sk-serial,\n",
       "div.sk-item {\n",
       "  /* draw centered vertical line to link estimators */\n",
       "  background-image: linear-gradient(var(--sklearn-color-text-on-default-background), var(--sklearn-color-text-on-default-background));\n",
       "  background-size: 2px 100%;\n",
       "  background-repeat: no-repeat;\n",
       "  background-position: center center;\n",
       "}\n",
       "\n",
       "/* Parallel-specific style estimator block */\n",
       "\n",
       "#sk-container-id-8 div.sk-parallel-item::after {\n",
       "  content: \"\";\n",
       "  width: 100%;\n",
       "  border-bottom: 2px solid var(--sklearn-color-text-on-default-background);\n",
       "  flex-grow: 1;\n",
       "}\n",
       "\n",
       "#sk-container-id-8 div.sk-parallel {\n",
       "  display: flex;\n",
       "  align-items: stretch;\n",
       "  justify-content: center;\n",
       "  background-color: var(--sklearn-color-background);\n",
       "  position: relative;\n",
       "}\n",
       "\n",
       "#sk-container-id-8 div.sk-parallel-item {\n",
       "  display: flex;\n",
       "  flex-direction: column;\n",
       "}\n",
       "\n",
       "#sk-container-id-8 div.sk-parallel-item:first-child::after {\n",
       "  align-self: flex-end;\n",
       "  width: 50%;\n",
       "}\n",
       "\n",
       "#sk-container-id-8 div.sk-parallel-item:last-child::after {\n",
       "  align-self: flex-start;\n",
       "  width: 50%;\n",
       "}\n",
       "\n",
       "#sk-container-id-8 div.sk-parallel-item:only-child::after {\n",
       "  width: 0;\n",
       "}\n",
       "\n",
       "/* Serial-specific style estimator block */\n",
       "\n",
       "#sk-container-id-8 div.sk-serial {\n",
       "  display: flex;\n",
       "  flex-direction: column;\n",
       "  align-items: center;\n",
       "  background-color: var(--sklearn-color-background);\n",
       "  padding-right: 1em;\n",
       "  padding-left: 1em;\n",
       "}\n",
       "\n",
       "\n",
       "/* Toggleable style: style used for estimator/Pipeline/ColumnTransformer box that is\n",
       "clickable and can be expanded/collapsed.\n",
       "- Pipeline and ColumnTransformer use this feature and define the default style\n",
       "- Estimators will overwrite some part of the style using the `sk-estimator` class\n",
       "*/\n",
       "\n",
       "/* Pipeline and ColumnTransformer style (default) */\n",
       "\n",
       "#sk-container-id-8 div.sk-toggleable {\n",
       "  /* Default theme specific background. It is overwritten whether we have a\n",
       "  specific estimator or a Pipeline/ColumnTransformer */\n",
       "  background-color: var(--sklearn-color-background);\n",
       "}\n",
       "\n",
       "/* Toggleable label */\n",
       "#sk-container-id-8 label.sk-toggleable__label {\n",
       "  cursor: pointer;\n",
       "  display: block;\n",
       "  width: 100%;\n",
       "  margin-bottom: 0;\n",
       "  padding: 0.5em;\n",
       "  box-sizing: border-box;\n",
       "  text-align: center;\n",
       "}\n",
       "\n",
       "#sk-container-id-8 label.sk-toggleable__label-arrow:before {\n",
       "  /* Arrow on the left of the label */\n",
       "  content: \"▸\";\n",
       "  float: left;\n",
       "  margin-right: 0.25em;\n",
       "  color: var(--sklearn-color-icon);\n",
       "}\n",
       "\n",
       "#sk-container-id-8 label.sk-toggleable__label-arrow:hover:before {\n",
       "  color: var(--sklearn-color-text);\n",
       "}\n",
       "\n",
       "/* Toggleable content - dropdown */\n",
       "\n",
       "#sk-container-id-8 div.sk-toggleable__content {\n",
       "  max-height: 0;\n",
       "  max-width: 0;\n",
       "  overflow: hidden;\n",
       "  text-align: left;\n",
       "  /* unfitted */\n",
       "  background-color: var(--sklearn-color-unfitted-level-0);\n",
       "}\n",
       "\n",
       "#sk-container-id-8 div.sk-toggleable__content.fitted {\n",
       "  /* fitted */\n",
       "  background-color: var(--sklearn-color-fitted-level-0);\n",
       "}\n",
       "\n",
       "#sk-container-id-8 div.sk-toggleable__content pre {\n",
       "  margin: 0.2em;\n",
       "  border-radius: 0.25em;\n",
       "  color: var(--sklearn-color-text);\n",
       "  /* unfitted */\n",
       "  background-color: var(--sklearn-color-unfitted-level-0);\n",
       "}\n",
       "\n",
       "#sk-container-id-8 div.sk-toggleable__content.fitted pre {\n",
       "  /* unfitted */\n",
       "  background-color: var(--sklearn-color-fitted-level-0);\n",
       "}\n",
       "\n",
       "#sk-container-id-8 input.sk-toggleable__control:checked~div.sk-toggleable__content {\n",
       "  /* Expand drop-down */\n",
       "  max-height: 200px;\n",
       "  max-width: 100%;\n",
       "  overflow: auto;\n",
       "}\n",
       "\n",
       "#sk-container-id-8 input.sk-toggleable__control:checked~label.sk-toggleable__label-arrow:before {\n",
       "  content: \"▾\";\n",
       "}\n",
       "\n",
       "/* Pipeline/ColumnTransformer-specific style */\n",
       "\n",
       "#sk-container-id-8 div.sk-label input.sk-toggleable__control:checked~label.sk-toggleable__label {\n",
       "  color: var(--sklearn-color-text);\n",
       "  background-color: var(--sklearn-color-unfitted-level-2);\n",
       "}\n",
       "\n",
       "#sk-container-id-8 div.sk-label.fitted input.sk-toggleable__control:checked~label.sk-toggleable__label {\n",
       "  background-color: var(--sklearn-color-fitted-level-2);\n",
       "}\n",
       "\n",
       "/* Estimator-specific style */\n",
       "\n",
       "/* Colorize estimator box */\n",
       "#sk-container-id-8 div.sk-estimator input.sk-toggleable__control:checked~label.sk-toggleable__label {\n",
       "  /* unfitted */\n",
       "  background-color: var(--sklearn-color-unfitted-level-2);\n",
       "}\n",
       "\n",
       "#sk-container-id-8 div.sk-estimator.fitted input.sk-toggleable__control:checked~label.sk-toggleable__label {\n",
       "  /* fitted */\n",
       "  background-color: var(--sklearn-color-fitted-level-2);\n",
       "}\n",
       "\n",
       "#sk-container-id-8 div.sk-label label.sk-toggleable__label,\n",
       "#sk-container-id-8 div.sk-label label {\n",
       "  /* The background is the default theme color */\n",
       "  color: var(--sklearn-color-text-on-default-background);\n",
       "}\n",
       "\n",
       "/* On hover, darken the color of the background */\n",
       "#sk-container-id-8 div.sk-label:hover label.sk-toggleable__label {\n",
       "  color: var(--sklearn-color-text);\n",
       "  background-color: var(--sklearn-color-unfitted-level-2);\n",
       "}\n",
       "\n",
       "/* Label box, darken color on hover, fitted */\n",
       "#sk-container-id-8 div.sk-label.fitted:hover label.sk-toggleable__label.fitted {\n",
       "  color: var(--sklearn-color-text);\n",
       "  background-color: var(--sklearn-color-fitted-level-2);\n",
       "}\n",
       "\n",
       "/* Estimator label */\n",
       "\n",
       "#sk-container-id-8 div.sk-label label {\n",
       "  font-family: monospace;\n",
       "  font-weight: bold;\n",
       "  display: inline-block;\n",
       "  line-height: 1.2em;\n",
       "}\n",
       "\n",
       "#sk-container-id-8 div.sk-label-container {\n",
       "  text-align: center;\n",
       "}\n",
       "\n",
       "/* Estimator-specific */\n",
       "#sk-container-id-8 div.sk-estimator {\n",
       "  font-family: monospace;\n",
       "  border: 1px dotted var(--sklearn-color-border-box);\n",
       "  border-radius: 0.25em;\n",
       "  box-sizing: border-box;\n",
       "  margin-bottom: 0.5em;\n",
       "  /* unfitted */\n",
       "  background-color: var(--sklearn-color-unfitted-level-0);\n",
       "}\n",
       "\n",
       "#sk-container-id-8 div.sk-estimator.fitted {\n",
       "  /* fitted */\n",
       "  background-color: var(--sklearn-color-fitted-level-0);\n",
       "}\n",
       "\n",
       "/* on hover */\n",
       "#sk-container-id-8 div.sk-estimator:hover {\n",
       "  /* unfitted */\n",
       "  background-color: var(--sklearn-color-unfitted-level-2);\n",
       "}\n",
       "\n",
       "#sk-container-id-8 div.sk-estimator.fitted:hover {\n",
       "  /* fitted */\n",
       "  background-color: var(--sklearn-color-fitted-level-2);\n",
       "}\n",
       "\n",
       "/* Specification for estimator info (e.g. \"i\" and \"?\") */\n",
       "\n",
       "/* Common style for \"i\" and \"?\" */\n",
       "\n",
       ".sk-estimator-doc-link,\n",
       "a:link.sk-estimator-doc-link,\n",
       "a:visited.sk-estimator-doc-link {\n",
       "  float: right;\n",
       "  font-size: smaller;\n",
       "  line-height: 1em;\n",
       "  font-family: monospace;\n",
       "  background-color: var(--sklearn-color-background);\n",
       "  border-radius: 1em;\n",
       "  height: 1em;\n",
       "  width: 1em;\n",
       "  text-decoration: none !important;\n",
       "  margin-left: 1ex;\n",
       "  /* unfitted */\n",
       "  border: var(--sklearn-color-unfitted-level-1) 1pt solid;\n",
       "  color: var(--sklearn-color-unfitted-level-1);\n",
       "}\n",
       "\n",
       ".sk-estimator-doc-link.fitted,\n",
       "a:link.sk-estimator-doc-link.fitted,\n",
       "a:visited.sk-estimator-doc-link.fitted {\n",
       "  /* fitted */\n",
       "  border: var(--sklearn-color-fitted-level-1) 1pt solid;\n",
       "  color: var(--sklearn-color-fitted-level-1);\n",
       "}\n",
       "\n",
       "/* On hover */\n",
       "div.sk-estimator:hover .sk-estimator-doc-link:hover,\n",
       ".sk-estimator-doc-link:hover,\n",
       "div.sk-label-container:hover .sk-estimator-doc-link:hover,\n",
       ".sk-estimator-doc-link:hover {\n",
       "  /* unfitted */\n",
       "  background-color: var(--sklearn-color-unfitted-level-3);\n",
       "  color: var(--sklearn-color-background);\n",
       "  text-decoration: none;\n",
       "}\n",
       "\n",
       "div.sk-estimator.fitted:hover .sk-estimator-doc-link.fitted:hover,\n",
       ".sk-estimator-doc-link.fitted:hover,\n",
       "div.sk-label-container:hover .sk-estimator-doc-link.fitted:hover,\n",
       ".sk-estimator-doc-link.fitted:hover {\n",
       "  /* fitted */\n",
       "  background-color: var(--sklearn-color-fitted-level-3);\n",
       "  color: var(--sklearn-color-background);\n",
       "  text-decoration: none;\n",
       "}\n",
       "\n",
       "/* Span, style for the box shown on hovering the info icon */\n",
       ".sk-estimator-doc-link span {\n",
       "  display: none;\n",
       "  z-index: 9999;\n",
       "  position: relative;\n",
       "  font-weight: normal;\n",
       "  right: .2ex;\n",
       "  padding: .5ex;\n",
       "  margin: .5ex;\n",
       "  width: min-content;\n",
       "  min-width: 20ex;\n",
       "  max-width: 50ex;\n",
       "  color: var(--sklearn-color-text);\n",
       "  box-shadow: 2pt 2pt 4pt #999;\n",
       "  /* unfitted */\n",
       "  background: var(--sklearn-color-unfitted-level-0);\n",
       "  border: .5pt solid var(--sklearn-color-unfitted-level-3);\n",
       "}\n",
       "\n",
       ".sk-estimator-doc-link.fitted span {\n",
       "  /* fitted */\n",
       "  background: var(--sklearn-color-fitted-level-0);\n",
       "  border: var(--sklearn-color-fitted-level-3);\n",
       "}\n",
       "\n",
       ".sk-estimator-doc-link:hover span {\n",
       "  display: block;\n",
       "}\n",
       "\n",
       "/* \"?\"-specific style due to the `<a>` HTML tag */\n",
       "\n",
       "#sk-container-id-8 a.estimator_doc_link {\n",
       "  float: right;\n",
       "  font-size: 1rem;\n",
       "  line-height: 1em;\n",
       "  font-family: monospace;\n",
       "  background-color: var(--sklearn-color-background);\n",
       "  border-radius: 1rem;\n",
       "  height: 1rem;\n",
       "  width: 1rem;\n",
       "  text-decoration: none;\n",
       "  /* unfitted */\n",
       "  color: var(--sklearn-color-unfitted-level-1);\n",
       "  border: var(--sklearn-color-unfitted-level-1) 1pt solid;\n",
       "}\n",
       "\n",
       "#sk-container-id-8 a.estimator_doc_link.fitted {\n",
       "  /* fitted */\n",
       "  border: var(--sklearn-color-fitted-level-1) 1pt solid;\n",
       "  color: var(--sklearn-color-fitted-level-1);\n",
       "}\n",
       "\n",
       "/* On hover */\n",
       "#sk-container-id-8 a.estimator_doc_link:hover {\n",
       "  /* unfitted */\n",
       "  background-color: var(--sklearn-color-unfitted-level-3);\n",
       "  color: var(--sklearn-color-background);\n",
       "  text-decoration: none;\n",
       "}\n",
       "\n",
       "#sk-container-id-8 a.estimator_doc_link.fitted:hover {\n",
       "  /* fitted */\n",
       "  background-color: var(--sklearn-color-fitted-level-3);\n",
       "}\n",
       "</style><div id=\"sk-container-id-8\" class=\"sk-top-container\"><div class=\"sk-text-repr-fallback\"><pre>RandomForestRegressor(random_state=42)</pre><b>In a Jupyter environment, please rerun this cell to show the HTML representation or trust the notebook. <br />On GitHub, the HTML representation is unable to render, please try loading this page with nbviewer.org.</b></div><div class=\"sk-container\" hidden><div class=\"sk-item\"><div class=\"sk-estimator fitted sk-toggleable\"><input class=\"sk-toggleable__control sk-hidden--visually\" id=\"sk-estimator-id-8\" type=\"checkbox\" checked><label for=\"sk-estimator-id-8\" class=\"sk-toggleable__label fitted sk-toggleable__label-arrow fitted\">&nbsp;&nbsp;RandomForestRegressor<a class=\"sk-estimator-doc-link fitted\" rel=\"noreferrer\" target=\"_blank\" href=\"https://scikit-learn.org/1.4/modules/generated/sklearn.ensemble.RandomForestRegressor.html\">?<span>Documentation for RandomForestRegressor</span></a><span class=\"sk-estimator-doc-link fitted\">i<span>Fitted</span></span></label><div class=\"sk-toggleable__content fitted\"><pre>RandomForestRegressor(random_state=42)</pre></div> </div></div></div></div>"
      ],
      "text/plain": [
       "RandomForestRegressor(random_state=42)"
      ]
     },
     "execution_count": 236,
     "metadata": {},
     "output_type": "execute_result"
    }
   ],
   "source": [
    "from sklearn.ensemble import RandomForestRegressor\n",
    "\n",
    "model = RandomForestRegressor(n_estimators=100, random_state=42)\n",
    "model.fit(x_train, y_train)"
   ]
  },
  {
   "cell_type": "code",
   "execution_count": 237,
   "id": "a5cce8ef-6a8c-4c99-b6eb-af85e7a40f51",
   "metadata": {},
   "outputs": [],
   "source": [
    "y_pred = model.predict(x_test)"
   ]
  },
  {
   "cell_type": "code",
   "execution_count": 238,
   "id": "c3bdac69-a6aa-4df2-8312-0c292c630a73",
   "metadata": {},
   "outputs": [
    {
     "name": "stdout",
     "output_type": "stream",
     "text": [
      "0.6385995209800899\n"
     ]
    }
   ],
   "source": [
    "r2 = r2_score(y_test,y_pred)\n",
    "print(r2)"
   ]
  },
  {
   "cell_type": "code",
   "execution_count": 239,
   "id": "9fc7a089-6408-4b56-9909-824ffde0360b",
   "metadata": {},
   "outputs": [
    {
     "data": {
      "text/html": [
       "<style>#sk-container-id-9 {\n",
       "  /* Definition of color scheme common for light and dark mode */\n",
       "  --sklearn-color-text: black;\n",
       "  --sklearn-color-line: gray;\n",
       "  /* Definition of color scheme for unfitted estimators */\n",
       "  --sklearn-color-unfitted-level-0: #fff5e6;\n",
       "  --sklearn-color-unfitted-level-1: #f6e4d2;\n",
       "  --sklearn-color-unfitted-level-2: #ffe0b3;\n",
       "  --sklearn-color-unfitted-level-3: chocolate;\n",
       "  /* Definition of color scheme for fitted estimators */\n",
       "  --sklearn-color-fitted-level-0: #f0f8ff;\n",
       "  --sklearn-color-fitted-level-1: #d4ebff;\n",
       "  --sklearn-color-fitted-level-2: #b3dbfd;\n",
       "  --sklearn-color-fitted-level-3: cornflowerblue;\n",
       "\n",
       "  /* Specific color for light theme */\n",
       "  --sklearn-color-text-on-default-background: var(--sg-text-color, var(--theme-code-foreground, var(--jp-content-font-color1, black)));\n",
       "  --sklearn-color-background: var(--sg-background-color, var(--theme-background, var(--jp-layout-color0, white)));\n",
       "  --sklearn-color-border-box: var(--sg-text-color, var(--theme-code-foreground, var(--jp-content-font-color1, black)));\n",
       "  --sklearn-color-icon: #696969;\n",
       "\n",
       "  @media (prefers-color-scheme: dark) {\n",
       "    /* Redefinition of color scheme for dark theme */\n",
       "    --sklearn-color-text-on-default-background: var(--sg-text-color, var(--theme-code-foreground, var(--jp-content-font-color1, white)));\n",
       "    --sklearn-color-background: var(--sg-background-color, var(--theme-background, var(--jp-layout-color0, #111)));\n",
       "    --sklearn-color-border-box: var(--sg-text-color, var(--theme-code-foreground, var(--jp-content-font-color1, white)));\n",
       "    --sklearn-color-icon: #878787;\n",
       "  }\n",
       "}\n",
       "\n",
       "#sk-container-id-9 {\n",
       "  color: var(--sklearn-color-text);\n",
       "}\n",
       "\n",
       "#sk-container-id-9 pre {\n",
       "  padding: 0;\n",
       "}\n",
       "\n",
       "#sk-container-id-9 input.sk-hidden--visually {\n",
       "  border: 0;\n",
       "  clip: rect(1px 1px 1px 1px);\n",
       "  clip: rect(1px, 1px, 1px, 1px);\n",
       "  height: 1px;\n",
       "  margin: -1px;\n",
       "  overflow: hidden;\n",
       "  padding: 0;\n",
       "  position: absolute;\n",
       "  width: 1px;\n",
       "}\n",
       "\n",
       "#sk-container-id-9 div.sk-dashed-wrapped {\n",
       "  border: 1px dashed var(--sklearn-color-line);\n",
       "  margin: 0 0.4em 0.5em 0.4em;\n",
       "  box-sizing: border-box;\n",
       "  padding-bottom: 0.4em;\n",
       "  background-color: var(--sklearn-color-background);\n",
       "}\n",
       "\n",
       "#sk-container-id-9 div.sk-container {\n",
       "  /* jupyter's `normalize.less` sets `[hidden] { display: none; }`\n",
       "     but bootstrap.min.css set `[hidden] { display: none !important; }`\n",
       "     so we also need the `!important` here to be able to override the\n",
       "     default hidden behavior on the sphinx rendered scikit-learn.org.\n",
       "     See: https://github.com/scikit-learn/scikit-learn/issues/21755 */\n",
       "  display: inline-block !important;\n",
       "  position: relative;\n",
       "}\n",
       "\n",
       "#sk-container-id-9 div.sk-text-repr-fallback {\n",
       "  display: none;\n",
       "}\n",
       "\n",
       "div.sk-parallel-item,\n",
       "div.sk-serial,\n",
       "div.sk-item {\n",
       "  /* draw centered vertical line to link estimators */\n",
       "  background-image: linear-gradient(var(--sklearn-color-text-on-default-background), var(--sklearn-color-text-on-default-background));\n",
       "  background-size: 2px 100%;\n",
       "  background-repeat: no-repeat;\n",
       "  background-position: center center;\n",
       "}\n",
       "\n",
       "/* Parallel-specific style estimator block */\n",
       "\n",
       "#sk-container-id-9 div.sk-parallel-item::after {\n",
       "  content: \"\";\n",
       "  width: 100%;\n",
       "  border-bottom: 2px solid var(--sklearn-color-text-on-default-background);\n",
       "  flex-grow: 1;\n",
       "}\n",
       "\n",
       "#sk-container-id-9 div.sk-parallel {\n",
       "  display: flex;\n",
       "  align-items: stretch;\n",
       "  justify-content: center;\n",
       "  background-color: var(--sklearn-color-background);\n",
       "  position: relative;\n",
       "}\n",
       "\n",
       "#sk-container-id-9 div.sk-parallel-item {\n",
       "  display: flex;\n",
       "  flex-direction: column;\n",
       "}\n",
       "\n",
       "#sk-container-id-9 div.sk-parallel-item:first-child::after {\n",
       "  align-self: flex-end;\n",
       "  width: 50%;\n",
       "}\n",
       "\n",
       "#sk-container-id-9 div.sk-parallel-item:last-child::after {\n",
       "  align-self: flex-start;\n",
       "  width: 50%;\n",
       "}\n",
       "\n",
       "#sk-container-id-9 div.sk-parallel-item:only-child::after {\n",
       "  width: 0;\n",
       "}\n",
       "\n",
       "/* Serial-specific style estimator block */\n",
       "\n",
       "#sk-container-id-9 div.sk-serial {\n",
       "  display: flex;\n",
       "  flex-direction: column;\n",
       "  align-items: center;\n",
       "  background-color: var(--sklearn-color-background);\n",
       "  padding-right: 1em;\n",
       "  padding-left: 1em;\n",
       "}\n",
       "\n",
       "\n",
       "/* Toggleable style: style used for estimator/Pipeline/ColumnTransformer box that is\n",
       "clickable and can be expanded/collapsed.\n",
       "- Pipeline and ColumnTransformer use this feature and define the default style\n",
       "- Estimators will overwrite some part of the style using the `sk-estimator` class\n",
       "*/\n",
       "\n",
       "/* Pipeline and ColumnTransformer style (default) */\n",
       "\n",
       "#sk-container-id-9 div.sk-toggleable {\n",
       "  /* Default theme specific background. It is overwritten whether we have a\n",
       "  specific estimator or a Pipeline/ColumnTransformer */\n",
       "  background-color: var(--sklearn-color-background);\n",
       "}\n",
       "\n",
       "/* Toggleable label */\n",
       "#sk-container-id-9 label.sk-toggleable__label {\n",
       "  cursor: pointer;\n",
       "  display: block;\n",
       "  width: 100%;\n",
       "  margin-bottom: 0;\n",
       "  padding: 0.5em;\n",
       "  box-sizing: border-box;\n",
       "  text-align: center;\n",
       "}\n",
       "\n",
       "#sk-container-id-9 label.sk-toggleable__label-arrow:before {\n",
       "  /* Arrow on the left of the label */\n",
       "  content: \"▸\";\n",
       "  float: left;\n",
       "  margin-right: 0.25em;\n",
       "  color: var(--sklearn-color-icon);\n",
       "}\n",
       "\n",
       "#sk-container-id-9 label.sk-toggleable__label-arrow:hover:before {\n",
       "  color: var(--sklearn-color-text);\n",
       "}\n",
       "\n",
       "/* Toggleable content - dropdown */\n",
       "\n",
       "#sk-container-id-9 div.sk-toggleable__content {\n",
       "  max-height: 0;\n",
       "  max-width: 0;\n",
       "  overflow: hidden;\n",
       "  text-align: left;\n",
       "  /* unfitted */\n",
       "  background-color: var(--sklearn-color-unfitted-level-0);\n",
       "}\n",
       "\n",
       "#sk-container-id-9 div.sk-toggleable__content.fitted {\n",
       "  /* fitted */\n",
       "  background-color: var(--sklearn-color-fitted-level-0);\n",
       "}\n",
       "\n",
       "#sk-container-id-9 div.sk-toggleable__content pre {\n",
       "  margin: 0.2em;\n",
       "  border-radius: 0.25em;\n",
       "  color: var(--sklearn-color-text);\n",
       "  /* unfitted */\n",
       "  background-color: var(--sklearn-color-unfitted-level-0);\n",
       "}\n",
       "\n",
       "#sk-container-id-9 div.sk-toggleable__content.fitted pre {\n",
       "  /* unfitted */\n",
       "  background-color: var(--sklearn-color-fitted-level-0);\n",
       "}\n",
       "\n",
       "#sk-container-id-9 input.sk-toggleable__control:checked~div.sk-toggleable__content {\n",
       "  /* Expand drop-down */\n",
       "  max-height: 200px;\n",
       "  max-width: 100%;\n",
       "  overflow: auto;\n",
       "}\n",
       "\n",
       "#sk-container-id-9 input.sk-toggleable__control:checked~label.sk-toggleable__label-arrow:before {\n",
       "  content: \"▾\";\n",
       "}\n",
       "\n",
       "/* Pipeline/ColumnTransformer-specific style */\n",
       "\n",
       "#sk-container-id-9 div.sk-label input.sk-toggleable__control:checked~label.sk-toggleable__label {\n",
       "  color: var(--sklearn-color-text);\n",
       "  background-color: var(--sklearn-color-unfitted-level-2);\n",
       "}\n",
       "\n",
       "#sk-container-id-9 div.sk-label.fitted input.sk-toggleable__control:checked~label.sk-toggleable__label {\n",
       "  background-color: var(--sklearn-color-fitted-level-2);\n",
       "}\n",
       "\n",
       "/* Estimator-specific style */\n",
       "\n",
       "/* Colorize estimator box */\n",
       "#sk-container-id-9 div.sk-estimator input.sk-toggleable__control:checked~label.sk-toggleable__label {\n",
       "  /* unfitted */\n",
       "  background-color: var(--sklearn-color-unfitted-level-2);\n",
       "}\n",
       "\n",
       "#sk-container-id-9 div.sk-estimator.fitted input.sk-toggleable__control:checked~label.sk-toggleable__label {\n",
       "  /* fitted */\n",
       "  background-color: var(--sklearn-color-fitted-level-2);\n",
       "}\n",
       "\n",
       "#sk-container-id-9 div.sk-label label.sk-toggleable__label,\n",
       "#sk-container-id-9 div.sk-label label {\n",
       "  /* The background is the default theme color */\n",
       "  color: var(--sklearn-color-text-on-default-background);\n",
       "}\n",
       "\n",
       "/* On hover, darken the color of the background */\n",
       "#sk-container-id-9 div.sk-label:hover label.sk-toggleable__label {\n",
       "  color: var(--sklearn-color-text);\n",
       "  background-color: var(--sklearn-color-unfitted-level-2);\n",
       "}\n",
       "\n",
       "/* Label box, darken color on hover, fitted */\n",
       "#sk-container-id-9 div.sk-label.fitted:hover label.sk-toggleable__label.fitted {\n",
       "  color: var(--sklearn-color-text);\n",
       "  background-color: var(--sklearn-color-fitted-level-2);\n",
       "}\n",
       "\n",
       "/* Estimator label */\n",
       "\n",
       "#sk-container-id-9 div.sk-label label {\n",
       "  font-family: monospace;\n",
       "  font-weight: bold;\n",
       "  display: inline-block;\n",
       "  line-height: 1.2em;\n",
       "}\n",
       "\n",
       "#sk-container-id-9 div.sk-label-container {\n",
       "  text-align: center;\n",
       "}\n",
       "\n",
       "/* Estimator-specific */\n",
       "#sk-container-id-9 div.sk-estimator {\n",
       "  font-family: monospace;\n",
       "  border: 1px dotted var(--sklearn-color-border-box);\n",
       "  border-radius: 0.25em;\n",
       "  box-sizing: border-box;\n",
       "  margin-bottom: 0.5em;\n",
       "  /* unfitted */\n",
       "  background-color: var(--sklearn-color-unfitted-level-0);\n",
       "}\n",
       "\n",
       "#sk-container-id-9 div.sk-estimator.fitted {\n",
       "  /* fitted */\n",
       "  background-color: var(--sklearn-color-fitted-level-0);\n",
       "}\n",
       "\n",
       "/* on hover */\n",
       "#sk-container-id-9 div.sk-estimator:hover {\n",
       "  /* unfitted */\n",
       "  background-color: var(--sklearn-color-unfitted-level-2);\n",
       "}\n",
       "\n",
       "#sk-container-id-9 div.sk-estimator.fitted:hover {\n",
       "  /* fitted */\n",
       "  background-color: var(--sklearn-color-fitted-level-2);\n",
       "}\n",
       "\n",
       "/* Specification for estimator info (e.g. \"i\" and \"?\") */\n",
       "\n",
       "/* Common style for \"i\" and \"?\" */\n",
       "\n",
       ".sk-estimator-doc-link,\n",
       "a:link.sk-estimator-doc-link,\n",
       "a:visited.sk-estimator-doc-link {\n",
       "  float: right;\n",
       "  font-size: smaller;\n",
       "  line-height: 1em;\n",
       "  font-family: monospace;\n",
       "  background-color: var(--sklearn-color-background);\n",
       "  border-radius: 1em;\n",
       "  height: 1em;\n",
       "  width: 1em;\n",
       "  text-decoration: none !important;\n",
       "  margin-left: 1ex;\n",
       "  /* unfitted */\n",
       "  border: var(--sklearn-color-unfitted-level-1) 1pt solid;\n",
       "  color: var(--sklearn-color-unfitted-level-1);\n",
       "}\n",
       "\n",
       ".sk-estimator-doc-link.fitted,\n",
       "a:link.sk-estimator-doc-link.fitted,\n",
       "a:visited.sk-estimator-doc-link.fitted {\n",
       "  /* fitted */\n",
       "  border: var(--sklearn-color-fitted-level-1) 1pt solid;\n",
       "  color: var(--sklearn-color-fitted-level-1);\n",
       "}\n",
       "\n",
       "/* On hover */\n",
       "div.sk-estimator:hover .sk-estimator-doc-link:hover,\n",
       ".sk-estimator-doc-link:hover,\n",
       "div.sk-label-container:hover .sk-estimator-doc-link:hover,\n",
       ".sk-estimator-doc-link:hover {\n",
       "  /* unfitted */\n",
       "  background-color: var(--sklearn-color-unfitted-level-3);\n",
       "  color: var(--sklearn-color-background);\n",
       "  text-decoration: none;\n",
       "}\n",
       "\n",
       "div.sk-estimator.fitted:hover .sk-estimator-doc-link.fitted:hover,\n",
       ".sk-estimator-doc-link.fitted:hover,\n",
       "div.sk-label-container:hover .sk-estimator-doc-link.fitted:hover,\n",
       ".sk-estimator-doc-link.fitted:hover {\n",
       "  /* fitted */\n",
       "  background-color: var(--sklearn-color-fitted-level-3);\n",
       "  color: var(--sklearn-color-background);\n",
       "  text-decoration: none;\n",
       "}\n",
       "\n",
       "/* Span, style for the box shown on hovering the info icon */\n",
       ".sk-estimator-doc-link span {\n",
       "  display: none;\n",
       "  z-index: 9999;\n",
       "  position: relative;\n",
       "  font-weight: normal;\n",
       "  right: .2ex;\n",
       "  padding: .5ex;\n",
       "  margin: .5ex;\n",
       "  width: min-content;\n",
       "  min-width: 20ex;\n",
       "  max-width: 50ex;\n",
       "  color: var(--sklearn-color-text);\n",
       "  box-shadow: 2pt 2pt 4pt #999;\n",
       "  /* unfitted */\n",
       "  background: var(--sklearn-color-unfitted-level-0);\n",
       "  border: .5pt solid var(--sklearn-color-unfitted-level-3);\n",
       "}\n",
       "\n",
       ".sk-estimator-doc-link.fitted span {\n",
       "  /* fitted */\n",
       "  background: var(--sklearn-color-fitted-level-0);\n",
       "  border: var(--sklearn-color-fitted-level-3);\n",
       "}\n",
       "\n",
       ".sk-estimator-doc-link:hover span {\n",
       "  display: block;\n",
       "}\n",
       "\n",
       "/* \"?\"-specific style due to the `<a>` HTML tag */\n",
       "\n",
       "#sk-container-id-9 a.estimator_doc_link {\n",
       "  float: right;\n",
       "  font-size: 1rem;\n",
       "  line-height: 1em;\n",
       "  font-family: monospace;\n",
       "  background-color: var(--sklearn-color-background);\n",
       "  border-radius: 1rem;\n",
       "  height: 1rem;\n",
       "  width: 1rem;\n",
       "  text-decoration: none;\n",
       "  /* unfitted */\n",
       "  color: var(--sklearn-color-unfitted-level-1);\n",
       "  border: var(--sklearn-color-unfitted-level-1) 1pt solid;\n",
       "}\n",
       "\n",
       "#sk-container-id-9 a.estimator_doc_link.fitted {\n",
       "  /* fitted */\n",
       "  border: var(--sklearn-color-fitted-level-1) 1pt solid;\n",
       "  color: var(--sklearn-color-fitted-level-1);\n",
       "}\n",
       "\n",
       "/* On hover */\n",
       "#sk-container-id-9 a.estimator_doc_link:hover {\n",
       "  /* unfitted */\n",
       "  background-color: var(--sklearn-color-unfitted-level-3);\n",
       "  color: var(--sklearn-color-background);\n",
       "  text-decoration: none;\n",
       "}\n",
       "\n",
       "#sk-container-id-9 a.estimator_doc_link.fitted:hover {\n",
       "  /* fitted */\n",
       "  background-color: var(--sklearn-color-fitted-level-3);\n",
       "}\n",
       "</style><div id=\"sk-container-id-9\" class=\"sk-top-container\"><div class=\"sk-text-repr-fallback\"><pre>XGBRegressor(base_score=None, booster=None, callbacks=None,\n",
       "             colsample_bylevel=None, colsample_bynode=None,\n",
       "             colsample_bytree=None, device=None, early_stopping_rounds=None,\n",
       "             enable_categorical=False, eval_metric=None, feature_types=None,\n",
       "             gamma=None, grow_policy=None, importance_type=None,\n",
       "             interaction_constraints=None, learning_rate=None, max_bin=None,\n",
       "             max_cat_threshold=None, max_cat_to_onehot=None,\n",
       "             max_delta_step=None, max_depth=8, max_leaves=None,\n",
       "             min_child_weight=None, missing=nan, monotone_constraints=None,\n",
       "             multi_strategy=None, n_estimators=100, n_jobs=None,\n",
       "             num_parallel_tree=None, random_state=42, ...)</pre><b>In a Jupyter environment, please rerun this cell to show the HTML representation or trust the notebook. <br />On GitHub, the HTML representation is unable to render, please try loading this page with nbviewer.org.</b></div><div class=\"sk-container\" hidden><div class=\"sk-item\"><div class=\"sk-estimator fitted sk-toggleable\"><input class=\"sk-toggleable__control sk-hidden--visually\" id=\"sk-estimator-id-9\" type=\"checkbox\" checked><label for=\"sk-estimator-id-9\" class=\"sk-toggleable__label fitted sk-toggleable__label-arrow fitted\">&nbsp;XGBRegressor<span class=\"sk-estimator-doc-link fitted\">i<span>Fitted</span></span></label><div class=\"sk-toggleable__content fitted\"><pre>XGBRegressor(base_score=None, booster=None, callbacks=None,\n",
       "             colsample_bylevel=None, colsample_bynode=None,\n",
       "             colsample_bytree=None, device=None, early_stopping_rounds=None,\n",
       "             enable_categorical=False, eval_metric=None, feature_types=None,\n",
       "             gamma=None, grow_policy=None, importance_type=None,\n",
       "             interaction_constraints=None, learning_rate=None, max_bin=None,\n",
       "             max_cat_threshold=None, max_cat_to_onehot=None,\n",
       "             max_delta_step=None, max_depth=8, max_leaves=None,\n",
       "             min_child_weight=None, missing=nan, monotone_constraints=None,\n",
       "             multi_strategy=None, n_estimators=100, n_jobs=None,\n",
       "             num_parallel_tree=None, random_state=42, ...)</pre></div> </div></div></div></div>"
      ],
      "text/plain": [
       "XGBRegressor(base_score=None, booster=None, callbacks=None,\n",
       "             colsample_bylevel=None, colsample_bynode=None,\n",
       "             colsample_bytree=None, device=None, early_stopping_rounds=None,\n",
       "             enable_categorical=False, eval_metric=None, feature_types=None,\n",
       "             gamma=None, grow_policy=None, importance_type=None,\n",
       "             interaction_constraints=None, learning_rate=None, max_bin=None,\n",
       "             max_cat_threshold=None, max_cat_to_onehot=None,\n",
       "             max_delta_step=None, max_depth=8, max_leaves=None,\n",
       "             min_child_weight=None, missing=nan, monotone_constraints=None,\n",
       "             multi_strategy=None, n_estimators=100, n_jobs=None,\n",
       "             num_parallel_tree=None, random_state=42, ...)"
      ]
     },
     "execution_count": 239,
     "metadata": {},
     "output_type": "execute_result"
    }
   ],
   "source": [
    "xg_model = XGBRegressor(n_estimators=100, max_depth=8, random_state=42)\n",
    "xg_model.fit(x_train, y_train)\n"
   ]
  },
  {
   "cell_type": "code",
   "execution_count": 240,
   "id": "959b255f-a57a-462c-b8b7-ab8c835bd01e",
   "metadata": {},
   "outputs": [],
   "source": [
    "y_pred = xg_model.predict(x_test)"
   ]
  },
  {
   "cell_type": "code",
   "execution_count": 241,
   "id": "659c3cd7-3848-4eb4-a570-571944486154",
   "metadata": {},
   "outputs": [
    {
     "name": "stdout",
     "output_type": "stream",
     "text": [
      "0.57798539335896\n"
     ]
    }
   ],
   "source": [
    "r2 = r2_score(y_test,y_pred)\n",
    "print(r2)"
   ]
  },
  {
   "cell_type": "code",
   "execution_count": null,
   "id": "9cbd2360-d694-4668-8664-ae43b1f9363a",
   "metadata": {},
   "outputs": [],
   "source": []
  },
  {
   "cell_type": "markdown",
   "id": "4e365635-adbd-4e96-afa8-614c4c11e355",
   "metadata": {},
   "source": [
    "### Using random forest"
   ]
  },
  {
   "cell_type": "code",
   "execution_count": 242,
   "id": "f6b1a828-5b3b-4437-8a07-c6de76da3910",
   "metadata": {},
   "outputs": [],
   "source": [
    "x_missing = df_missing[['votes','cost']]"
   ]
  },
  {
   "cell_type": "code",
   "execution_count": 243,
   "id": "f365818f-4637-44ee-826a-982ed949b930",
   "metadata": {},
   "outputs": [],
   "source": [
    "predicted_rates = model.predict(x_missing)"
   ]
  },
  {
   "cell_type": "code",
   "execution_count": 244,
   "id": "ae15173a-47ff-447d-92ea-e5a2e80f37cb",
   "metadata": {},
   "outputs": [],
   "source": [
    "df_missing['rate'] = predicted_rates"
   ]
  },
  {
   "cell_type": "code",
   "execution_count": 245,
   "id": "d7ca3a1f-9127-4c6d-926c-d81dba9f695b",
   "metadata": {},
   "outputs": [],
   "source": [
    "olddf = pd.concat([df_complete,df_missing])"
   ]
  },
  {
   "cell_type": "code",
   "execution_count": 246,
   "id": "51598e28-40af-41d0-a8b9-dbd3e13d159f",
   "metadata": {},
   "outputs": [
    {
     "data": {
      "text/plain": [
       "url                 0\n",
       "address             0\n",
       "name                0\n",
       "online_order        0\n",
       "book_table          0\n",
       "rate                0\n",
       "votes               0\n",
       "phone             861\n",
       "location            0\n",
       "rest_type         202\n",
       "dish_liked      25742\n",
       "cuisines           19\n",
       "cost                0\n",
       "reviews_list        0\n",
       "menu_item           0\n",
       "type                0\n",
       "city                0\n",
       "dtype: int64"
      ]
     },
     "execution_count": 246,
     "metadata": {},
     "output_type": "execute_result"
    }
   ],
   "source": [
    "olddf.isnull().sum()"
   ]
  },
  {
   "cell_type": "code",
   "execution_count": 247,
   "id": "b579c6bf-fa53-4de2-92ca-3b1c472b2a13",
   "metadata": {},
   "outputs": [
    {
     "data": {
      "text/plain": [
       "Index(['url', 'address', 'name', 'online_order', 'book_table', 'rate', 'votes',\n",
       "       'phone', 'location', 'rest_type', 'dish_liked', 'cuisines', 'cost',\n",
       "       'reviews_list', 'menu_item', 'type', 'city'],\n",
       "      dtype='object')"
      ]
     },
     "execution_count": 247,
     "metadata": {},
     "output_type": "execute_result"
    }
   ],
   "source": [
    "olddf.columns"
   ]
  },
  {
   "cell_type": "code",
   "execution_count": 248,
   "id": "2116f790-b70e-4f78-b13d-725af4deef37",
   "metadata": {},
   "outputs": [],
   "source": [
    "## dropping less important columns\n",
    "olddf.drop(columns=['url','address','name','votes','phone','dish_liked','cuisines','reviews_list','menu_item'],inplace=True)"
   ]
  },
  {
   "cell_type": "code",
   "execution_count": 249,
   "id": "6df1f57c-07c9-49af-add7-6a70f028a6a1",
   "metadata": {},
   "outputs": [
    {
     "name": "stdout",
     "output_type": "stream",
     "text": [
      "<class 'pandas.core.frame.DataFrame'>\n",
      "Index: 49098 entries, 0 to 51714\n",
      "Data columns (total 8 columns):\n",
      " #   Column        Non-Null Count  Dtype  \n",
      "---  ------        --------------  -----  \n",
      " 0   online_order  49098 non-null  object \n",
      " 1   book_table    49098 non-null  object \n",
      " 2   rate          49098 non-null  float64\n",
      " 3   location      49098 non-null  object \n",
      " 4   rest_type     48896 non-null  object \n",
      " 5   cost          49098 non-null  float64\n",
      " 6   type          49098 non-null  object \n",
      " 7   city          49098 non-null  object \n",
      "dtypes: float64(2), object(6)\n",
      "memory usage: 3.4+ MB\n"
     ]
    }
   ],
   "source": [
    "olddf.info()"
   ]
  },
  {
   "cell_type": "code",
   "execution_count": null,
   "id": "6dec10d6-4e51-44f1-8ebb-6ae3200fd63d",
   "metadata": {},
   "outputs": [],
   "source": []
  },
  {
   "cell_type": "markdown",
   "id": "f4b6b6a5-e49d-48c2-97d1-d8cd8f8ab84b",
   "metadata": {},
   "source": [
    "## Data cleaning and handling missing values for newddf"
   ]
  },
  {
   "cell_type": "code",
   "execution_count": 250,
   "id": "0e2d1b74-1167-4d6f-a5a6-850d8a77c181",
   "metadata": {},
   "outputs": [],
   "source": [
    "newdf.drop(columns=['url','address','name','votes','phone','dish_liked','cuisines','reviews_list','menu_item'],inplace=True)"
   ]
  },
  {
   "cell_type": "code",
   "execution_count": 251,
   "id": "08cf24e8-ad8b-426a-8607-3f2dacd8e34a",
   "metadata": {},
   "outputs": [
    {
     "data": {
      "text/plain": [
       "online_order                   0\n",
       "book_table                     0\n",
       "rate                           0\n",
       "location                       0\n",
       "rest_type                      2\n",
       "approx_cost(for two people)    5\n",
       "listed_in(type)                0\n",
       "listed_in(city)                0\n",
       "dtype: int64"
      ]
     },
     "execution_count": 251,
     "metadata": {},
     "output_type": "execute_result"
    }
   ],
   "source": [
    "newdf.isnull().sum()"
   ]
  },
  {
   "cell_type": "code",
   "execution_count": 252,
   "id": "9db249d9-a3a8-490f-b2c6-bca32b151c50",
   "metadata": {},
   "outputs": [],
   "source": [
    "newdf.dropna(inplace=True)"
   ]
  },
  {
   "cell_type": "code",
   "execution_count": 253,
   "id": "789f5989-48d8-4b1d-b594-cfba044e44a6",
   "metadata": {},
   "outputs": [
    {
     "data": {
      "text/plain": [
       "online_order                   0\n",
       "book_table                     0\n",
       "rate                           0\n",
       "location                       0\n",
       "rest_type                      0\n",
       "approx_cost(for two people)    0\n",
       "listed_in(type)                0\n",
       "listed_in(city)                0\n",
       "dtype: int64"
      ]
     },
     "execution_count": 253,
     "metadata": {},
     "output_type": "execute_result"
    }
   ],
   "source": [
    "newdf.isnull().sum()"
   ]
  },
  {
   "cell_type": "code",
   "execution_count": 254,
   "id": "85d80916-12f0-4183-b8ab-32b34a5749c0",
   "metadata": {},
   "outputs": [
    {
     "name": "stdout",
     "output_type": "stream",
     "text": [
      "<class 'pandas.core.frame.DataFrame'>\n",
      "Index: 2270 entries, 72 to 51605\n",
      "Data columns (total 8 columns):\n",
      " #   Column                       Non-Null Count  Dtype \n",
      "---  ------                       --------------  ----- \n",
      " 0   online_order                 2270 non-null   object\n",
      " 1   book_table                   2270 non-null   object\n",
      " 2   rate                         2270 non-null   object\n",
      " 3   location                     2270 non-null   object\n",
      " 4   rest_type                    2270 non-null   object\n",
      " 5   approx_cost(for two people)  2270 non-null   object\n",
      " 6   listed_in(type)              2270 non-null   object\n",
      " 7   listed_in(city)              2270 non-null   object\n",
      "dtypes: object(8)\n",
      "memory usage: 159.6+ KB\n"
     ]
    }
   ],
   "source": [
    "newdf.info()"
   ]
  },
  {
   "cell_type": "code",
   "execution_count": 255,
   "id": "bc508453-20ce-4596-8707-fa26076a89f4",
   "metadata": {},
   "outputs": [
    {
     "data": {
      "text/plain": [
       "(2270, 8)"
      ]
     },
     "execution_count": 255,
     "metadata": {},
     "output_type": "execute_result"
    }
   ],
   "source": [
    "newdf.shape"
   ]
  },
  {
   "cell_type": "code",
   "execution_count": 256,
   "id": "97480b4c-7b1a-46e1-835e-917f016d6d1f",
   "metadata": {},
   "outputs": [],
   "source": [
    "newdf= newdf.rename(columns={'approx_cost(for two people)':'cost','listed_in(type)':'type',\n",
    "                                  'listed_in(city)':'city'},)"
   ]
  },
  {
   "cell_type": "code",
   "execution_count": 257,
   "id": "769969a1-b324-488a-83de-8a2d9944ef03",
   "metadata": {},
   "outputs": [
    {
     "data": {
      "text/html": [
       "<div>\n",
       "<style scoped>\n",
       "    .dataframe tbody tr th:only-of-type {\n",
       "        vertical-align: middle;\n",
       "    }\n",
       "\n",
       "    .dataframe tbody tr th {\n",
       "        vertical-align: top;\n",
       "    }\n",
       "\n",
       "    .dataframe thead th {\n",
       "        text-align: right;\n",
       "    }\n",
       "</style>\n",
       "<table border=\"1\" class=\"dataframe\">\n",
       "  <thead>\n",
       "    <tr style=\"text-align: right;\">\n",
       "      <th></th>\n",
       "      <th>online_order</th>\n",
       "      <th>book_table</th>\n",
       "      <th>rate</th>\n",
       "      <th>location</th>\n",
       "      <th>rest_type</th>\n",
       "      <th>cost</th>\n",
       "      <th>type</th>\n",
       "      <th>city</th>\n",
       "    </tr>\n",
       "  </thead>\n",
       "  <tbody>\n",
       "    <tr>\n",
       "      <th>72</th>\n",
       "      <td>No</td>\n",
       "      <td>No</td>\n",
       "      <td>NEW</td>\n",
       "      <td>Banashankari</td>\n",
       "      <td>Quick Bites</td>\n",
       "      <td>150</td>\n",
       "      <td>Delivery</td>\n",
       "      <td>Banashankari</td>\n",
       "    </tr>\n",
       "    <tr>\n",
       "      <th>75</th>\n",
       "      <td>No</td>\n",
       "      <td>No</td>\n",
       "      <td>NEW</td>\n",
       "      <td>Banashankari</td>\n",
       "      <td>Takeaway, Delivery</td>\n",
       "      <td>500</td>\n",
       "      <td>Delivery</td>\n",
       "      <td>Banashankari</td>\n",
       "    </tr>\n",
       "    <tr>\n",
       "      <th>110</th>\n",
       "      <td>No</td>\n",
       "      <td>No</td>\n",
       "      <td>NEW</td>\n",
       "      <td>Banashankari</td>\n",
       "      <td>Takeaway, Delivery</td>\n",
       "      <td>200</td>\n",
       "      <td>Delivery</td>\n",
       "      <td>Banashankari</td>\n",
       "    </tr>\n",
       "    <tr>\n",
       "      <th>130</th>\n",
       "      <td>No</td>\n",
       "      <td>No</td>\n",
       "      <td>NEW</td>\n",
       "      <td>Banashankari</td>\n",
       "      <td>Takeaway, Delivery</td>\n",
       "      <td>200</td>\n",
       "      <td>Delivery</td>\n",
       "      <td>Banashankari</td>\n",
       "    </tr>\n",
       "    <tr>\n",
       "      <th>131</th>\n",
       "      <td>No</td>\n",
       "      <td>No</td>\n",
       "      <td>NEW</td>\n",
       "      <td>Banashankari</td>\n",
       "      <td>Quick Bites</td>\n",
       "      <td>100</td>\n",
       "      <td>Delivery</td>\n",
       "      <td>Banashankari</td>\n",
       "    </tr>\n",
       "  </tbody>\n",
       "</table>\n",
       "</div>"
      ],
      "text/plain": [
       "    online_order book_table rate      location           rest_type cost  \\\n",
       "72            No         No  NEW  Banashankari         Quick Bites  150   \n",
       "75            No         No  NEW  Banashankari  Takeaway, Delivery  500   \n",
       "110           No         No  NEW  Banashankari  Takeaway, Delivery  200   \n",
       "130           No         No  NEW  Banashankari  Takeaway, Delivery  200   \n",
       "131           No         No  NEW  Banashankari         Quick Bites  100   \n",
       "\n",
       "         type          city  \n",
       "72   Delivery  Banashankari  \n",
       "75   Delivery  Banashankari  \n",
       "110  Delivery  Banashankari  \n",
       "130  Delivery  Banashankari  \n",
       "131  Delivery  Banashankari  "
      ]
     },
     "execution_count": 257,
     "metadata": {},
     "output_type": "execute_result"
    }
   ],
   "source": [
    "newdf.head()"
   ]
  },
  {
   "cell_type": "code",
   "execution_count": 258,
   "id": "fdf2f4cc-79b3-46b2-ab06-66443f93abc8",
   "metadata": {},
   "outputs": [],
   "source": [
    "newdf['cost'] = newdf['cost'].str.replace(',','').astype(float)"
   ]
  },
  {
   "cell_type": "code",
   "execution_count": 259,
   "id": "f0f6d5c8-c21e-47ec-99b6-752f9ffc47d1",
   "metadata": {},
   "outputs": [
    {
     "name": "stdout",
     "output_type": "stream",
     "text": [
      "<class 'pandas.core.frame.DataFrame'>\n",
      "Index: 2270 entries, 72 to 51605\n",
      "Data columns (total 8 columns):\n",
      " #   Column        Non-Null Count  Dtype  \n",
      "---  ------        --------------  -----  \n",
      " 0   online_order  2270 non-null   object \n",
      " 1   book_table    2270 non-null   object \n",
      " 2   rate          2270 non-null   object \n",
      " 3   location      2270 non-null   object \n",
      " 4   rest_type     2270 non-null   object \n",
      " 5   cost          2270 non-null   float64\n",
      " 6   type          2270 non-null   object \n",
      " 7   city          2270 non-null   object \n",
      "dtypes: float64(1), object(7)\n",
      "memory usage: 159.6+ KB\n"
     ]
    }
   ],
   "source": [
    "newdf.info()"
   ]
  },
  {
   "cell_type": "code",
   "execution_count": 260,
   "id": "61b37444-f99e-4f5f-b00d-645ec95508e7",
   "metadata": {},
   "outputs": [
    {
     "data": {
      "text/plain": [
       "array(['NEW', '-'], dtype=object)"
      ]
     },
     "execution_count": 260,
     "metadata": {},
     "output_type": "execute_result"
    }
   ],
   "source": [
    "newdf.rate.unique() ## great"
   ]
  },
  {
   "cell_type": "code",
   "execution_count": null,
   "id": "9e55a9ea-89bd-432c-b98c-388c95978de2",
   "metadata": {},
   "outputs": [],
   "source": []
  },
  {
   "cell_type": "markdown",
   "id": "70921aa8-850d-4958-9b19-88df8b3065e1",
   "metadata": {},
   "source": [
    "## Column Transfor"
   ]
  },
  {
   "cell_type": "code",
   "execution_count": 134,
   "id": "a715688e-8bbf-4b2c-83b2-8f7ca2007ee5",
   "metadata": {},
   "outputs": [],
   "source": [
    "preprocessor = ColumnTransformer(\n",
    "    transformers=[\n",
    "        ('ohe', OneHotEncoder(drop='first'), ['online_order', 'book_table', 'location','rest_type','type','city']),\n",
    "    ],\n",
    "    remainder='passthrough'\n",
    ")"
   ]
  },
  {
   "cell_type": "code",
   "execution_count": 135,
   "id": "d602c398-cd90-4e3f-bbf8-85df0163a34c",
   "metadata": {},
   "outputs": [],
   "source": [
    "x = olddf.drop('rate' , axis =1)\n",
    "y = olddf['rate']"
   ]
  },
  {
   "cell_type": "code",
   "execution_count": 136,
   "id": "bf828bfc-b689-409b-8661-4088af095009",
   "metadata": {},
   "outputs": [
    {
     "data": {
      "text/plain": [
       "(49098, 7)"
      ]
     },
     "execution_count": 136,
     "metadata": {},
     "output_type": "execute_result"
    }
   ],
   "source": [
    "x.shape"
   ]
  },
  {
   "cell_type": "code",
   "execution_count": 137,
   "id": "5d638338-7f03-4c63-b004-17cfe1085efc",
   "metadata": {},
   "outputs": [
    {
     "data": {
      "text/plain": [
       "(49098,)"
      ]
     },
     "execution_count": 137,
     "metadata": {},
     "output_type": "execute_result"
    }
   ],
   "source": [
    "y.shape"
   ]
  },
  {
   "cell_type": "code",
   "execution_count": 138,
   "id": "1528fb3c-5c37-4d0e-9f00-7173ff14cced",
   "metadata": {},
   "outputs": [
    {
     "data": {
      "text/html": [
       "<div>\n",
       "<style scoped>\n",
       "    .dataframe tbody tr th:only-of-type {\n",
       "        vertical-align: middle;\n",
       "    }\n",
       "\n",
       "    .dataframe tbody tr th {\n",
       "        vertical-align: top;\n",
       "    }\n",
       "\n",
       "    .dataframe thead th {\n",
       "        text-align: right;\n",
       "    }\n",
       "</style>\n",
       "<table border=\"1\" class=\"dataframe\">\n",
       "  <thead>\n",
       "    <tr style=\"text-align: right;\">\n",
       "      <th></th>\n",
       "      <th>online_order</th>\n",
       "      <th>book_table</th>\n",
       "      <th>location</th>\n",
       "      <th>rest_type</th>\n",
       "      <th>cost</th>\n",
       "      <th>type</th>\n",
       "      <th>city</th>\n",
       "    </tr>\n",
       "  </thead>\n",
       "  <tbody>\n",
       "    <tr>\n",
       "      <th>0</th>\n",
       "      <td>Yes</td>\n",
       "      <td>Yes</td>\n",
       "      <td>Banashankari</td>\n",
       "      <td>Casual Dining</td>\n",
       "      <td>800.0</td>\n",
       "      <td>Buffet</td>\n",
       "      <td>Banashankari</td>\n",
       "    </tr>\n",
       "    <tr>\n",
       "      <th>1</th>\n",
       "      <td>Yes</td>\n",
       "      <td>No</td>\n",
       "      <td>Banashankari</td>\n",
       "      <td>Casual Dining</td>\n",
       "      <td>800.0</td>\n",
       "      <td>Buffet</td>\n",
       "      <td>Banashankari</td>\n",
       "    </tr>\n",
       "    <tr>\n",
       "      <th>2</th>\n",
       "      <td>Yes</td>\n",
       "      <td>No</td>\n",
       "      <td>Banashankari</td>\n",
       "      <td>Cafe, Casual Dining</td>\n",
       "      <td>800.0</td>\n",
       "      <td>Buffet</td>\n",
       "      <td>Banashankari</td>\n",
       "    </tr>\n",
       "    <tr>\n",
       "      <th>3</th>\n",
       "      <td>No</td>\n",
       "      <td>No</td>\n",
       "      <td>Banashankari</td>\n",
       "      <td>Quick Bites</td>\n",
       "      <td>300.0</td>\n",
       "      <td>Buffet</td>\n",
       "      <td>Banashankari</td>\n",
       "    </tr>\n",
       "    <tr>\n",
       "      <th>4</th>\n",
       "      <td>No</td>\n",
       "      <td>No</td>\n",
       "      <td>Basavanagudi</td>\n",
       "      <td>Casual Dining</td>\n",
       "      <td>600.0</td>\n",
       "      <td>Buffet</td>\n",
       "      <td>Banashankari</td>\n",
       "    </tr>\n",
       "  </tbody>\n",
       "</table>\n",
       "</div>"
      ],
      "text/plain": [
       "  online_order book_table      location            rest_type   cost    type  \\\n",
       "0          Yes        Yes  Banashankari        Casual Dining  800.0  Buffet   \n",
       "1          Yes         No  Banashankari        Casual Dining  800.0  Buffet   \n",
       "2          Yes         No  Banashankari  Cafe, Casual Dining  800.0  Buffet   \n",
       "3           No         No  Banashankari          Quick Bites  300.0  Buffet   \n",
       "4           No         No  Basavanagudi        Casual Dining  600.0  Buffet   \n",
       "\n",
       "           city  \n",
       "0  Banashankari  \n",
       "1  Banashankari  \n",
       "2  Banashankari  \n",
       "3  Banashankari  \n",
       "4  Banashankari  "
      ]
     },
     "execution_count": 138,
     "metadata": {},
     "output_type": "execute_result"
    }
   ],
   "source": [
    "x.head()"
   ]
  },
  {
   "cell_type": "markdown",
   "id": "132fa991-8421-40e2-80bb-b38fbb5a72ae",
   "metadata": {},
   "source": [
    "### Splitting data into test train split"
   ]
  },
  {
   "cell_type": "code",
   "execution_count": 139,
   "id": "20c2e097-312b-45de-8146-f581708aaf70",
   "metadata": {},
   "outputs": [
    {
     "data": {
      "text/plain": [
       "34067    3.900000\n",
       "15389    3.521589\n",
       "21372    3.700000\n",
       "15034    3.600000\n",
       "30543    3.500000\n",
       "Name: rate, dtype: float64"
      ]
     },
     "execution_count": 139,
     "metadata": {},
     "output_type": "execute_result"
    }
   ],
   "source": [
    "x_train,x_test,y_train,y_test=train_test_split(x,y,test_size=.15,random_state=42)\n",
    "x_train.head()\n",
    "y_train.head()"
   ]
  },
  {
   "cell_type": "code",
   "execution_count": 140,
   "id": "c2e2043d-747d-4484-9a2f-c011bda56685",
   "metadata": {},
   "outputs": [
    {
     "data": {
      "text/plain": [
       "pandas.core.frame.DataFrame"
      ]
     },
     "execution_count": 140,
     "metadata": {},
     "output_type": "execute_result"
    }
   ],
   "source": [
    "type(x_test)"
   ]
  },
  {
   "cell_type": "code",
   "execution_count": 141,
   "id": "568297fd-8c67-4ace-b0f3-eff11262e2c2",
   "metadata": {},
   "outputs": [],
   "source": [
    "X_train_prepared = preprocessor.fit_transform(x_train)\n",
    "X_test_prepared  = preprocessor.transform(x_test)"
   ]
  },
  {
   "cell_type": "code",
   "execution_count": 142,
   "id": "7146ac6e-e033-48f3-b177-f9c3278684dc",
   "metadata": {},
   "outputs": [],
   "source": [
    "X_train_prepared = X_train_prepared.toarray()\n",
    "X_test_prepared = X_test_prepared.toarray()"
   ]
  },
  {
   "cell_type": "code",
   "execution_count": 143,
   "id": "47dba664-98d8-4c93-9ae3-ba60b4d0a9f5",
   "metadata": {},
   "outputs": [],
   "source": [
    "X_train_df = pd.DataFrame(X_train_prepared, columns=preprocessor.get_feature_names_out())\n",
    "X_test_df = pd.DataFrame(X_test_prepared, columns=preprocessor.get_feature_names_out())"
   ]
  },
  {
   "cell_type": "code",
   "execution_count": 144,
   "id": "6131daba-ee13-4024-bb02-f894c51b55d2",
   "metadata": {},
   "outputs": [
    {
     "data": {
      "text/html": [
       "<div>\n",
       "<style scoped>\n",
       "    .dataframe tbody tr th:only-of-type {\n",
       "        vertical-align: middle;\n",
       "    }\n",
       "\n",
       "    .dataframe tbody tr th {\n",
       "        vertical-align: top;\n",
       "    }\n",
       "\n",
       "    .dataframe thead th {\n",
       "        text-align: right;\n",
       "    }\n",
       "</style>\n",
       "<table border=\"1\" class=\"dataframe\">\n",
       "  <thead>\n",
       "    <tr style=\"text-align: right;\">\n",
       "      <th></th>\n",
       "      <th>ohe__online_order_Yes</th>\n",
       "      <th>ohe__book_table_Yes</th>\n",
       "      <th>ohe__location_Banashankari</th>\n",
       "      <th>ohe__location_Banaswadi</th>\n",
       "      <th>ohe__location_Bannerghatta Road</th>\n",
       "      <th>ohe__location_Basavanagudi</th>\n",
       "      <th>ohe__location_Basaveshwara Nagar</th>\n",
       "      <th>ohe__location_Bellandur</th>\n",
       "      <th>ohe__location_Bommanahalli</th>\n",
       "      <th>ohe__location_Brigade Road</th>\n",
       "      <th>...</th>\n",
       "      <th>ohe__city_MG Road</th>\n",
       "      <th>ohe__city_Malleshwaram</th>\n",
       "      <th>ohe__city_Marathahalli</th>\n",
       "      <th>ohe__city_New BEL Road</th>\n",
       "      <th>ohe__city_Old Airport Road</th>\n",
       "      <th>ohe__city_Rajajinagar</th>\n",
       "      <th>ohe__city_Residency Road</th>\n",
       "      <th>ohe__city_Sarjapur Road</th>\n",
       "      <th>ohe__city_Whitefield</th>\n",
       "      <th>remainder__cost</th>\n",
       "    </tr>\n",
       "  </thead>\n",
       "  <tbody>\n",
       "    <tr>\n",
       "      <th>0</th>\n",
       "      <td>1.0</td>\n",
       "      <td>0.0</td>\n",
       "      <td>0.0</td>\n",
       "      <td>0.0</td>\n",
       "      <td>0.0</td>\n",
       "      <td>0.0</td>\n",
       "      <td>0.0</td>\n",
       "      <td>0.0</td>\n",
       "      <td>0.0</td>\n",
       "      <td>0.0</td>\n",
       "      <td>...</td>\n",
       "      <td>0.0</td>\n",
       "      <td>0.0</td>\n",
       "      <td>0.0</td>\n",
       "      <td>0.0</td>\n",
       "      <td>0.0</td>\n",
       "      <td>0.0</td>\n",
       "      <td>0.0</td>\n",
       "      <td>0.0</td>\n",
       "      <td>0.0</td>\n",
       "      <td>750.0</td>\n",
       "    </tr>\n",
       "    <tr>\n",
       "      <th>1</th>\n",
       "      <td>1.0</td>\n",
       "      <td>0.0</td>\n",
       "      <td>0.0</td>\n",
       "      <td>0.0</td>\n",
       "      <td>0.0</td>\n",
       "      <td>0.0</td>\n",
       "      <td>0.0</td>\n",
       "      <td>0.0</td>\n",
       "      <td>0.0</td>\n",
       "      <td>0.0</td>\n",
       "      <td>...</td>\n",
       "      <td>0.0</td>\n",
       "      <td>0.0</td>\n",
       "      <td>0.0</td>\n",
       "      <td>0.0</td>\n",
       "      <td>0.0</td>\n",
       "      <td>0.0</td>\n",
       "      <td>0.0</td>\n",
       "      <td>0.0</td>\n",
       "      <td>0.0</td>\n",
       "      <td>150.0</td>\n",
       "    </tr>\n",
       "    <tr>\n",
       "      <th>2</th>\n",
       "      <td>1.0</td>\n",
       "      <td>0.0</td>\n",
       "      <td>0.0</td>\n",
       "      <td>0.0</td>\n",
       "      <td>0.0</td>\n",
       "      <td>0.0</td>\n",
       "      <td>0.0</td>\n",
       "      <td>0.0</td>\n",
       "      <td>0.0</td>\n",
       "      <td>0.0</td>\n",
       "      <td>...</td>\n",
       "      <td>0.0</td>\n",
       "      <td>0.0</td>\n",
       "      <td>0.0</td>\n",
       "      <td>0.0</td>\n",
       "      <td>0.0</td>\n",
       "      <td>0.0</td>\n",
       "      <td>0.0</td>\n",
       "      <td>0.0</td>\n",
       "      <td>0.0</td>\n",
       "      <td>400.0</td>\n",
       "    </tr>\n",
       "    <tr>\n",
       "      <th>3</th>\n",
       "      <td>0.0</td>\n",
       "      <td>0.0</td>\n",
       "      <td>0.0</td>\n",
       "      <td>0.0</td>\n",
       "      <td>0.0</td>\n",
       "      <td>0.0</td>\n",
       "      <td>0.0</td>\n",
       "      <td>0.0</td>\n",
       "      <td>0.0</td>\n",
       "      <td>0.0</td>\n",
       "      <td>...</td>\n",
       "      <td>0.0</td>\n",
       "      <td>0.0</td>\n",
       "      <td>0.0</td>\n",
       "      <td>0.0</td>\n",
       "      <td>0.0</td>\n",
       "      <td>0.0</td>\n",
       "      <td>0.0</td>\n",
       "      <td>0.0</td>\n",
       "      <td>0.0</td>\n",
       "      <td>600.0</td>\n",
       "    </tr>\n",
       "    <tr>\n",
       "      <th>4</th>\n",
       "      <td>0.0</td>\n",
       "      <td>0.0</td>\n",
       "      <td>0.0</td>\n",
       "      <td>0.0</td>\n",
       "      <td>0.0</td>\n",
       "      <td>0.0</td>\n",
       "      <td>0.0</td>\n",
       "      <td>0.0</td>\n",
       "      <td>0.0</td>\n",
       "      <td>0.0</td>\n",
       "      <td>...</td>\n",
       "      <td>0.0</td>\n",
       "      <td>0.0</td>\n",
       "      <td>0.0</td>\n",
       "      <td>0.0</td>\n",
       "      <td>0.0</td>\n",
       "      <td>0.0</td>\n",
       "      <td>0.0</td>\n",
       "      <td>0.0</td>\n",
       "      <td>0.0</td>\n",
       "      <td>200.0</td>\n",
       "    </tr>\n",
       "    <tr>\n",
       "      <th>...</th>\n",
       "      <td>...</td>\n",
       "      <td>...</td>\n",
       "      <td>...</td>\n",
       "      <td>...</td>\n",
       "      <td>...</td>\n",
       "      <td>...</td>\n",
       "      <td>...</td>\n",
       "      <td>...</td>\n",
       "      <td>...</td>\n",
       "      <td>...</td>\n",
       "      <td>...</td>\n",
       "      <td>...</td>\n",
       "      <td>...</td>\n",
       "      <td>...</td>\n",
       "      <td>...</td>\n",
       "      <td>...</td>\n",
       "      <td>...</td>\n",
       "      <td>...</td>\n",
       "      <td>...</td>\n",
       "      <td>...</td>\n",
       "      <td>...</td>\n",
       "    </tr>\n",
       "    <tr>\n",
       "      <th>41728</th>\n",
       "      <td>1.0</td>\n",
       "      <td>0.0</td>\n",
       "      <td>0.0</td>\n",
       "      <td>0.0</td>\n",
       "      <td>0.0</td>\n",
       "      <td>0.0</td>\n",
       "      <td>0.0</td>\n",
       "      <td>0.0</td>\n",
       "      <td>0.0</td>\n",
       "      <td>0.0</td>\n",
       "      <td>...</td>\n",
       "      <td>0.0</td>\n",
       "      <td>0.0</td>\n",
       "      <td>0.0</td>\n",
       "      <td>0.0</td>\n",
       "      <td>0.0</td>\n",
       "      <td>0.0</td>\n",
       "      <td>0.0</td>\n",
       "      <td>0.0</td>\n",
       "      <td>0.0</td>\n",
       "      <td>400.0</td>\n",
       "    </tr>\n",
       "    <tr>\n",
       "      <th>41729</th>\n",
       "      <td>0.0</td>\n",
       "      <td>0.0</td>\n",
       "      <td>0.0</td>\n",
       "      <td>0.0</td>\n",
       "      <td>1.0</td>\n",
       "      <td>0.0</td>\n",
       "      <td>0.0</td>\n",
       "      <td>0.0</td>\n",
       "      <td>0.0</td>\n",
       "      <td>0.0</td>\n",
       "      <td>...</td>\n",
       "      <td>0.0</td>\n",
       "      <td>0.0</td>\n",
       "      <td>0.0</td>\n",
       "      <td>0.0</td>\n",
       "      <td>0.0</td>\n",
       "      <td>0.0</td>\n",
       "      <td>0.0</td>\n",
       "      <td>0.0</td>\n",
       "      <td>0.0</td>\n",
       "      <td>500.0</td>\n",
       "    </tr>\n",
       "    <tr>\n",
       "      <th>41730</th>\n",
       "      <td>0.0</td>\n",
       "      <td>0.0</td>\n",
       "      <td>0.0</td>\n",
       "      <td>0.0</td>\n",
       "      <td>0.0</td>\n",
       "      <td>0.0</td>\n",
       "      <td>0.0</td>\n",
       "      <td>0.0</td>\n",
       "      <td>0.0</td>\n",
       "      <td>0.0</td>\n",
       "      <td>...</td>\n",
       "      <td>0.0</td>\n",
       "      <td>0.0</td>\n",
       "      <td>0.0</td>\n",
       "      <td>0.0</td>\n",
       "      <td>0.0</td>\n",
       "      <td>0.0</td>\n",
       "      <td>1.0</td>\n",
       "      <td>0.0</td>\n",
       "      <td>0.0</td>\n",
       "      <td>1000.0</td>\n",
       "    </tr>\n",
       "    <tr>\n",
       "      <th>41731</th>\n",
       "      <td>1.0</td>\n",
       "      <td>0.0</td>\n",
       "      <td>0.0</td>\n",
       "      <td>0.0</td>\n",
       "      <td>0.0</td>\n",
       "      <td>0.0</td>\n",
       "      <td>0.0</td>\n",
       "      <td>0.0</td>\n",
       "      <td>0.0</td>\n",
       "      <td>0.0</td>\n",
       "      <td>...</td>\n",
       "      <td>0.0</td>\n",
       "      <td>0.0</td>\n",
       "      <td>0.0</td>\n",
       "      <td>0.0</td>\n",
       "      <td>0.0</td>\n",
       "      <td>0.0</td>\n",
       "      <td>0.0</td>\n",
       "      <td>0.0</td>\n",
       "      <td>0.0</td>\n",
       "      <td>150.0</td>\n",
       "    </tr>\n",
       "    <tr>\n",
       "      <th>41732</th>\n",
       "      <td>1.0</td>\n",
       "      <td>0.0</td>\n",
       "      <td>0.0</td>\n",
       "      <td>0.0</td>\n",
       "      <td>0.0</td>\n",
       "      <td>0.0</td>\n",
       "      <td>0.0</td>\n",
       "      <td>0.0</td>\n",
       "      <td>0.0</td>\n",
       "      <td>0.0</td>\n",
       "      <td>...</td>\n",
       "      <td>0.0</td>\n",
       "      <td>0.0</td>\n",
       "      <td>0.0</td>\n",
       "      <td>0.0</td>\n",
       "      <td>0.0</td>\n",
       "      <td>0.0</td>\n",
       "      <td>0.0</td>\n",
       "      <td>0.0</td>\n",
       "      <td>0.0</td>\n",
       "      <td>200.0</td>\n",
       "    </tr>\n",
       "  </tbody>\n",
       "</table>\n",
       "<p>41733 rows × 222 columns</p>\n",
       "</div>"
      ],
      "text/plain": [
       "       ohe__online_order_Yes  ohe__book_table_Yes  ohe__location_Banashankari  \\\n",
       "0                        1.0                  0.0                         0.0   \n",
       "1                        1.0                  0.0                         0.0   \n",
       "2                        1.0                  0.0                         0.0   \n",
       "3                        0.0                  0.0                         0.0   \n",
       "4                        0.0                  0.0                         0.0   \n",
       "...                      ...                  ...                         ...   \n",
       "41728                    1.0                  0.0                         0.0   \n",
       "41729                    0.0                  0.0                         0.0   \n",
       "41730                    0.0                  0.0                         0.0   \n",
       "41731                    1.0                  0.0                         0.0   \n",
       "41732                    1.0                  0.0                         0.0   \n",
       "\n",
       "       ohe__location_Banaswadi  ohe__location_Bannerghatta Road  \\\n",
       "0                          0.0                              0.0   \n",
       "1                          0.0                              0.0   \n",
       "2                          0.0                              0.0   \n",
       "3                          0.0                              0.0   \n",
       "4                          0.0                              0.0   \n",
       "...                        ...                              ...   \n",
       "41728                      0.0                              0.0   \n",
       "41729                      0.0                              1.0   \n",
       "41730                      0.0                              0.0   \n",
       "41731                      0.0                              0.0   \n",
       "41732                      0.0                              0.0   \n",
       "\n",
       "       ohe__location_Basavanagudi  ohe__location_Basaveshwara Nagar  \\\n",
       "0                             0.0                               0.0   \n",
       "1                             0.0                               0.0   \n",
       "2                             0.0                               0.0   \n",
       "3                             0.0                               0.0   \n",
       "4                             0.0                               0.0   \n",
       "...                           ...                               ...   \n",
       "41728                         0.0                               0.0   \n",
       "41729                         0.0                               0.0   \n",
       "41730                         0.0                               0.0   \n",
       "41731                         0.0                               0.0   \n",
       "41732                         0.0                               0.0   \n",
       "\n",
       "       ohe__location_Bellandur  ohe__location_Bommanahalli  \\\n",
       "0                          0.0                         0.0   \n",
       "1                          0.0                         0.0   \n",
       "2                          0.0                         0.0   \n",
       "3                          0.0                         0.0   \n",
       "4                          0.0                         0.0   \n",
       "...                        ...                         ...   \n",
       "41728                      0.0                         0.0   \n",
       "41729                      0.0                         0.0   \n",
       "41730                      0.0                         0.0   \n",
       "41731                      0.0                         0.0   \n",
       "41732                      0.0                         0.0   \n",
       "\n",
       "       ohe__location_Brigade Road  ...  ohe__city_MG Road  \\\n",
       "0                             0.0  ...                0.0   \n",
       "1                             0.0  ...                0.0   \n",
       "2                             0.0  ...                0.0   \n",
       "3                             0.0  ...                0.0   \n",
       "4                             0.0  ...                0.0   \n",
       "...                           ...  ...                ...   \n",
       "41728                         0.0  ...                0.0   \n",
       "41729                         0.0  ...                0.0   \n",
       "41730                         0.0  ...                0.0   \n",
       "41731                         0.0  ...                0.0   \n",
       "41732                         0.0  ...                0.0   \n",
       "\n",
       "       ohe__city_Malleshwaram  ohe__city_Marathahalli  ohe__city_New BEL Road  \\\n",
       "0                         0.0                     0.0                     0.0   \n",
       "1                         0.0                     0.0                     0.0   \n",
       "2                         0.0                     0.0                     0.0   \n",
       "3                         0.0                     0.0                     0.0   \n",
       "4                         0.0                     0.0                     0.0   \n",
       "...                       ...                     ...                     ...   \n",
       "41728                     0.0                     0.0                     0.0   \n",
       "41729                     0.0                     0.0                     0.0   \n",
       "41730                     0.0                     0.0                     0.0   \n",
       "41731                     0.0                     0.0                     0.0   \n",
       "41732                     0.0                     0.0                     0.0   \n",
       "\n",
       "       ohe__city_Old Airport Road  ohe__city_Rajajinagar  \\\n",
       "0                             0.0                    0.0   \n",
       "1                             0.0                    0.0   \n",
       "2                             0.0                    0.0   \n",
       "3                             0.0                    0.0   \n",
       "4                             0.0                    0.0   \n",
       "...                           ...                    ...   \n",
       "41728                         0.0                    0.0   \n",
       "41729                         0.0                    0.0   \n",
       "41730                         0.0                    0.0   \n",
       "41731                         0.0                    0.0   \n",
       "41732                         0.0                    0.0   \n",
       "\n",
       "       ohe__city_Residency Road  ohe__city_Sarjapur Road  \\\n",
       "0                           0.0                      0.0   \n",
       "1                           0.0                      0.0   \n",
       "2                           0.0                      0.0   \n",
       "3                           0.0                      0.0   \n",
       "4                           0.0                      0.0   \n",
       "...                         ...                      ...   \n",
       "41728                       0.0                      0.0   \n",
       "41729                       0.0                      0.0   \n",
       "41730                       1.0                      0.0   \n",
       "41731                       0.0                      0.0   \n",
       "41732                       0.0                      0.0   \n",
       "\n",
       "       ohe__city_Whitefield  remainder__cost  \n",
       "0                       0.0            750.0  \n",
       "1                       0.0            150.0  \n",
       "2                       0.0            400.0  \n",
       "3                       0.0            600.0  \n",
       "4                       0.0            200.0  \n",
       "...                     ...              ...  \n",
       "41728                   0.0            400.0  \n",
       "41729                   0.0            500.0  \n",
       "41730                   0.0           1000.0  \n",
       "41731                   0.0            150.0  \n",
       "41732                   0.0            200.0  \n",
       "\n",
       "[41733 rows x 222 columns]"
      ]
     },
     "execution_count": 144,
     "metadata": {},
     "output_type": "execute_result"
    }
   ],
   "source": [
    "X_train_df"
   ]
  },
  {
   "cell_type": "markdown",
   "id": "3c9af166-fea6-48ac-9983-c4f4eda07b35",
   "metadata": {},
   "source": [
    "### Model Training"
   ]
  },
  {
   "cell_type": "code",
   "execution_count": 145,
   "id": "d124e18b-09d5-483e-8f04-21ba3c633971",
   "metadata": {},
   "outputs": [
    {
     "data": {
      "text/plain": [
       "(41733, 222)"
      ]
     },
     "execution_count": 145,
     "metadata": {},
     "output_type": "execute_result"
    }
   ],
   "source": [
    "X_train_df.shape"
   ]
  },
  {
   "cell_type": "code",
   "execution_count": 146,
   "id": "19a79484-e121-416b-b618-d115fd76e136",
   "metadata": {},
   "outputs": [
    {
     "data": {
      "text/plain": [
       "(7365, 222)"
      ]
     },
     "execution_count": 146,
     "metadata": {},
     "output_type": "execute_result"
    }
   ],
   "source": [
    "X_test_df.shape"
   ]
  },
  {
   "cell_type": "code",
   "execution_count": 147,
   "id": "68ba0a87-7b40-4fc7-afad-a51edfddbd5e",
   "metadata": {},
   "outputs": [
    {
     "data": {
      "text/plain": [
       "(7365,)"
      ]
     },
     "execution_count": 147,
     "metadata": {},
     "output_type": "execute_result"
    }
   ],
   "source": [
    "y_test.shape"
   ]
  },
  {
   "cell_type": "code",
   "execution_count": 148,
   "id": "4f8d1a9d-df16-410f-bd87-29d85e66c31a",
   "metadata": {},
   "outputs": [
    {
     "data": {
      "text/plain": [
       "(41733,)"
      ]
     },
     "execution_count": 148,
     "metadata": {},
     "output_type": "execute_result"
    }
   ],
   "source": [
    "y_train.shape"
   ]
  },
  {
   "cell_type": "code",
   "execution_count": null,
   "id": "89cf38fe-614a-4b2f-8b3d-86dc2751af4c",
   "metadata": {},
   "outputs": [],
   "source": []
  },
  {
   "cell_type": "code",
   "execution_count": 151,
   "id": "082341aa-fce0-4c27-a985-ffaaadb2af5a",
   "metadata": {},
   "outputs": [],
   "source": [
    "from sklearn.ensemble import BaggingRegressor, AdaBoostRegressor, RandomForestRegressor, GradientBoostingRegressor\n",
    "from sklearn.tree import DecisionTreeRegressor\n",
    "from sklearn.metrics import r2_score\n",
    "from xgboost import XGBRegressor\n"
   ]
  },
  {
   "cell_type": "code",
   "execution_count": 152,
   "id": "997a45c0-a6d9-46f6-b924-8dfc3235540c",
   "metadata": {},
   "outputs": [
    {
     "name": "stdout",
     "output_type": "stream",
     "text": [
      "Bagging R²: 0.4534705197031642\n"
     ]
    }
   ],
   "source": [
    "bagging = BaggingRegressor(estimator=DecisionTreeRegressor(min_samples_leaf=0.0001), random_state=42)\n",
    "bagging.fit(X_train_df, y_train)\n",
    "y_predict_bag = bagging.predict(X_test_df)\n",
    "print(\"Bagging R²:\", r2_score(y_test, y_predict_bag))\n"
   ]
  },
  {
   "cell_type": "code",
   "execution_count": 153,
   "id": "b08a6ec1-65da-4d7d-82d4-c8c5fe7ab519",
   "metadata": {},
   "outputs": [
    {
     "name": "stdout",
     "output_type": "stream",
     "text": [
      "AdaBoost R²: 0.4221908633267042\n"
     ]
    }
   ],
   "source": [
    "adaboost = AdaBoostRegressor(estimator=DecisionTreeRegressor(min_samples_leaf=0.0001), random_state=42)\n",
    "adaboost.fit(X_train_df, y_train)\n",
    "y_predict_ada = adaboost.predict(X_test_df)\n",
    "print(\"AdaBoost R²:\", r2_score(y_test, y_predict_ada))\n"
   ]
  },
  {
   "cell_type": "code",
   "execution_count": 154,
   "id": "83d761c7-f61b-42ef-858f-6fc4ec11a245",
   "metadata": {},
   "outputs": [
    {
     "name": "stdout",
     "output_type": "stream",
     "text": [
      "Random Forest R²: 0.4661835938030817\n"
     ]
    }
   ],
   "source": [
    "rf = RandomForestRegressor(min_samples_leaf=0.0001, random_state=42)\n",
    "rf.fit(X_train_df, y_train)\n",
    "y_predict_rf = rf.predict(X_test_df)\n",
    "print(\"Random Forest R²:\", r2_score(y_test, y_predict_rf))\n"
   ]
  },
  {
   "cell_type": "code",
   "execution_count": 155,
   "id": "21e2496a-541d-4af2-9bb0-5fe2481833f0",
   "metadata": {},
   "outputs": [
    {
     "name": "stdout",
     "output_type": "stream",
     "text": [
      "Gradient Boosting R²: 0.3102793624689759\n"
     ]
    }
   ],
   "source": [
    "gboost = GradientBoostingRegressor(min_samples_leaf=0.0001, random_state=42)\n",
    "gboost.fit(X_train_df, y_train)\n",
    "y_predict_gboost = gboost.predict(X_test_df)\n",
    "print(\"Gradient Boosting R²:\", r2_score(y_test, y_predict_gboost))\n"
   ]
  },
  {
   "cell_type": "code",
   "execution_count": 156,
   "id": "6fbc8919-3523-489f-8879-0717e1b19d2b",
   "metadata": {},
   "outputs": [
    {
     "name": "stdout",
     "output_type": "stream",
     "text": [
      "XGBoost R²: 0.3087523369385582\n"
     ]
    }
   ],
   "source": [
    "xgb = XGBRegressor(learning_rate=0.1, n_estimators=100, max_depth=3, random_state=42)\n",
    "xgb.fit(X_train_df, y_train)\n",
    "y_predict_xgb = xgb.predict(X_test_df)\n",
    "print(\"XGBoost R²:\", r2_score(y_test, y_predict_xgb))\n"
   ]
  },
  {
   "cell_type": "code",
   "execution_count": 158,
   "id": "c972e1d2-b357-4e1e-a416-113f66be2d5f",
   "metadata": {},
   "outputs": [
    {
     "name": "stdout",
     "output_type": "stream",
     "text": [
      "DT regressor R²: 0.44350727205178764\n"
     ]
    }
   ],
   "source": [
    "\n",
    "DTree=DecisionTreeRegressor(min_samples_leaf=.0001)\n",
    "DTree.fit(X_train_df,y_train)\n",
    "y_predict=DTree.predict(X_test_df)\n",
    "\n",
    "print(\"DT regressor R²:\",r2_score(y_test,y_predict))"
   ]
  },
  {
   "cell_type": "code",
   "execution_count": 343,
   "id": "4d00fd61-55dc-4929-91c1-636f674329c7",
   "metadata": {},
   "outputs": [
    {
     "data": {
      "text/plain": [
       "46980    4.2\n",
       "27523    4.5\n",
       "43010    3.3\n",
       "44508    3.0\n",
       "49469    3.9\n",
       "2042     3.6\n",
       "19889    3.0\n",
       "7893     4.2\n",
       "5979     3.5\n",
       "48471    3.3\n",
       "Name: rate, dtype: float64"
      ]
     },
     "execution_count": 343,
     "metadata": {},
     "output_type": "execute_result"
    }
   ],
   "source": [
    "y_test[:10]"
   ]
  },
  {
   "cell_type": "code",
   "execution_count": 159,
   "id": "01a7b3bc-cb95-46f4-9ca4-e5831520425c",
   "metadata": {},
   "outputs": [
    {
     "data": {
      "text/plain": [
       "array([4.05770201, 3.40802303, 3.42425062, 4.49534863, 3.81584837,\n",
       "       3.79806096, 4.12353695, 4.19115312, 4.49681639, 3.72488286])"
      ]
     },
     "execution_count": 159,
     "metadata": {},
     "output_type": "execute_result"
    }
   ],
   "source": [
    "y_predict_rf[:10]"
   ]
  },
  {
   "cell_type": "code",
   "execution_count": null,
   "id": "a6d17323-b32b-4272-a3e9-25978c3feaa7",
   "metadata": {},
   "outputs": [],
   "source": []
  },
  {
   "cell_type": "code",
   "execution_count": 160,
   "id": "d35a082f-9b0d-4fd5-91fb-b7461f9d01c5",
   "metadata": {},
   "outputs": [],
   "source": [
    "## using random forest regressor"
   ]
  },
  {
   "cell_type": "code",
   "execution_count": 166,
   "id": "4b8115df-f283-4e69-882f-fe9c8ef0db79",
   "metadata": {},
   "outputs": [],
   "source": [
    "threshold = 4\n",
    "\n",
    "# Create binary “success/failure” arrays (1 = success, 0 = failure)\n",
    "Y_testfinal = (y_test > threshold).astype(int)\n",
    "Y_predfinal = (y_predict_rf > threshold).astype(int)\n"
   ]
  },
  {
   "cell_type": "code",
   "execution_count": 167,
   "id": "11b5003c-8769-4e2b-a1eb-4b9cae7df943",
   "metadata": {},
   "outputs": [
    {
     "data": {
      "text/plain": [
       "30985    0\n",
       "15323    0\n",
       "39033    0\n",
       "26558    1\n",
       "34674    0\n",
       "29766    0\n",
       "21043    1\n",
       "47536    1\n",
       "43257    1\n",
       "38962    0\n",
       "Name: rate, dtype: int32"
      ]
     },
     "execution_count": 167,
     "metadata": {},
     "output_type": "execute_result"
    }
   ],
   "source": [
    "Y_testfinal[:10]"
   ]
  },
  {
   "cell_type": "code",
   "execution_count": 168,
   "id": "7b3ca8fa-0f76-43d5-97f6-cac253a74c7a",
   "metadata": {},
   "outputs": [
    {
     "data": {
      "text/plain": [
       "array([1, 0, 0, 1, 0, 0, 1, 1, 1, 0])"
      ]
     },
     "execution_count": 168,
     "metadata": {},
     "output_type": "execute_result"
    }
   ],
   "source": [
    "Y_predfinal[:10]"
   ]
  },
  {
   "cell_type": "code",
   "execution_count": 169,
   "id": "17bfff04-3d04-4f1a-965b-5f04a17dab18",
   "metadata": {},
   "outputs": [
    {
     "name": "stdout",
     "output_type": "stream",
     "text": [
      "Accuracy: 0.9084860828241683\n"
     ]
    }
   ],
   "source": [
    "accuracy = accuracy_score(Y_testfinal, Y_predfinal)\n",
    "print(\"Accuracy:\", accuracy)"
   ]
  },
  {
   "cell_type": "code",
   "execution_count": null,
   "id": "978c4d8d-6e91-4d97-aaa1-e1633a0328c8",
   "metadata": {},
   "outputs": [],
   "source": []
  },
  {
   "cell_type": "markdown",
   "id": "2a1c79e9-24dd-4f23-a20e-e1682cab2a3e",
   "metadata": {},
   "source": [
    "# Predicting success of new restaurant"
   ]
  },
  {
   "cell_type": "code",
   "execution_count": 196,
   "id": "95902d0d-158f-439a-9ba2-db5dfdbedbf7",
   "metadata": {},
   "outputs": [],
   "source": [
    "def Predict_success(online, bookings, location, rest_type, cost, type, city):\n",
    "    # Create DataFrame with proper column names\n",
    "    test_input = pd.DataFrame([[online, bookings, location, rest_type, cost, type, city]],\n",
    "                              columns=['online_order', 'book_table', 'location', 'rest_type', 'cost', 'type', 'city'])\n",
    "\n",
    "    test_input_processed = preprocessor.transform(test_input)\n",
    "    y_predict = rf.predict(test_input_processed)\n",
    "\n",
    "    return \"Success\" if y_predict >= 3.8 else \"Failure\""
   ]
  },
  {
   "cell_type": "code",
   "execution_count": 197,
   "id": "c9f670c4-c8f0-42e2-8efe-08eb58a3ff13",
   "metadata": {},
   "outputs": [],
   "source": [
    "ans = Predict_success('No', 'No', 'Koramangala 6th Block', 'Quick Bites', 3000, 'Desserts', 'Koramangala 5th Block')"
   ]
  },
  {
   "cell_type": "code",
   "execution_count": 198,
   "id": "4a8ad43a-2409-471b-8e2e-17eea4ee27c4",
   "metadata": {},
   "outputs": [
    {
     "data": {
      "text/plain": [
       "'Success'"
      ]
     },
     "execution_count": 198,
     "metadata": {},
     "output_type": "execute_result"
    }
   ],
   "source": [
    "ans"
   ]
  },
  {
   "cell_type": "code",
   "execution_count": 199,
   "id": "bd62a72f-a6f5-4cbb-aa73-348e4d908958",
   "metadata": {},
   "outputs": [
    {
     "data": {
      "text/html": [
       "<div>\n",
       "<style scoped>\n",
       "    .dataframe tbody tr th:only-of-type {\n",
       "        vertical-align: middle;\n",
       "    }\n",
       "\n",
       "    .dataframe tbody tr th {\n",
       "        vertical-align: top;\n",
       "    }\n",
       "\n",
       "    .dataframe thead th {\n",
       "        text-align: right;\n",
       "    }\n",
       "</style>\n",
       "<table border=\"1\" class=\"dataframe\">\n",
       "  <thead>\n",
       "    <tr style=\"text-align: right;\">\n",
       "      <th></th>\n",
       "      <th>online_order</th>\n",
       "      <th>book_table</th>\n",
       "      <th>rate</th>\n",
       "      <th>location</th>\n",
       "      <th>rest_type</th>\n",
       "      <th>cost</th>\n",
       "      <th>type</th>\n",
       "      <th>city</th>\n",
       "    </tr>\n",
       "  </thead>\n",
       "  <tbody>\n",
       "    <tr>\n",
       "      <th>72</th>\n",
       "      <td>No</td>\n",
       "      <td>No</td>\n",
       "      <td>NEW</td>\n",
       "      <td>Banashankari</td>\n",
       "      <td>Quick Bites</td>\n",
       "      <td>150.0</td>\n",
       "      <td>Delivery</td>\n",
       "      <td>Banashankari</td>\n",
       "    </tr>\n",
       "    <tr>\n",
       "      <th>75</th>\n",
       "      <td>No</td>\n",
       "      <td>No</td>\n",
       "      <td>NEW</td>\n",
       "      <td>Banashankari</td>\n",
       "      <td>Takeaway, Delivery</td>\n",
       "      <td>500.0</td>\n",
       "      <td>Delivery</td>\n",
       "      <td>Banashankari</td>\n",
       "    </tr>\n",
       "  </tbody>\n",
       "</table>\n",
       "</div>"
      ],
      "text/plain": [
       "   online_order book_table rate      location           rest_type   cost  \\\n",
       "72           No         No  NEW  Banashankari         Quick Bites  150.0   \n",
       "75           No         No  NEW  Banashankari  Takeaway, Delivery  500.0   \n",
       "\n",
       "        type          city  \n",
       "72  Delivery  Banashankari  \n",
       "75  Delivery  Banashankari  "
      ]
     },
     "execution_count": 199,
     "metadata": {},
     "output_type": "execute_result"
    }
   ],
   "source": [
    "newdf.head(2)"
   ]
  },
  {
   "cell_type": "code",
   "execution_count": 200,
   "id": "d914946a-bafd-4549-a39e-14ef996faf96",
   "metadata": {},
   "outputs": [],
   "source": [
    "import warnings\n",
    "warnings.filterwarnings(\"ignore\")"
   ]
  },
  {
   "cell_type": "code",
   "execution_count": 201,
   "id": "5345c634-5627-46e6-b582-8e26585384fd",
   "metadata": {},
   "outputs": [],
   "source": [
    "testing_df = newdf.drop(columns=['rate'])"
   ]
  },
  {
   "cell_type": "code",
   "execution_count": 202,
   "id": "27cea5f3-0a99-4f59-aeeb-2baefc480226",
   "metadata": {},
   "outputs": [],
   "source": [
    "\n",
    "results = []\n",
    "\n",
    "for _, row in testing_df.iterrows():\n",
    "    result = Predict_success(\n",
    "        row['online_order'],\n",
    "        row['book_table'],\n",
    "        row['location'],\n",
    "        row['rest_type'],\n",
    "        row['cost'],\n",
    "        row['type'],\n",
    "        row['city']\n",
    "    )\n",
    "    results.append(result)\n"
   ]
  },
  {
   "cell_type": "code",
   "execution_count": 203,
   "id": "fbb647eb-8e3b-41d5-a5e1-0b8ca18630ab",
   "metadata": {},
   "outputs": [],
   "source": [
    "testing_df['prediction'] = results"
   ]
  },
  {
   "cell_type": "code",
   "execution_count": 204,
   "id": "ed582c2e-0f88-4270-b151-19ee3c774f17",
   "metadata": {},
   "outputs": [
    {
     "data": {
      "text/plain": [
       "prediction\n",
       "Failure    1901\n",
       "Success     369\n",
       "Name: count, dtype: int64"
      ]
     },
     "execution_count": 204,
     "metadata": {},
     "output_type": "execute_result"
    }
   ],
   "source": [
    "testing_df['prediction'].value_counts()"
   ]
  },
  {
   "cell_type": "code",
   "execution_count": 208,
   "id": "f866a0e6-4f17-4606-80f3-48e94044c56e",
   "metadata": {},
   "outputs": [],
   "source": [
    "new_restaurant_success = testing_df"
   ]
  },
  {
   "cell_type": "code",
   "execution_count": 209,
   "id": "47372fc8-dfd2-4a3c-a348-8fd3953882dd",
   "metadata": {},
   "outputs": [
    {
     "data": {
      "text/html": [
       "<div>\n",
       "<style scoped>\n",
       "    .dataframe tbody tr th:only-of-type {\n",
       "        vertical-align: middle;\n",
       "    }\n",
       "\n",
       "    .dataframe tbody tr th {\n",
       "        vertical-align: top;\n",
       "    }\n",
       "\n",
       "    .dataframe thead th {\n",
       "        text-align: right;\n",
       "    }\n",
       "</style>\n",
       "<table border=\"1\" class=\"dataframe\">\n",
       "  <thead>\n",
       "    <tr style=\"text-align: right;\">\n",
       "      <th></th>\n",
       "      <th>online_order</th>\n",
       "      <th>book_table</th>\n",
       "      <th>location</th>\n",
       "      <th>rest_type</th>\n",
       "      <th>cost</th>\n",
       "      <th>type</th>\n",
       "      <th>city</th>\n",
       "      <th>prediction</th>\n",
       "    </tr>\n",
       "  </thead>\n",
       "  <tbody>\n",
       "    <tr>\n",
       "      <th>8848</th>\n",
       "      <td>Yes</td>\n",
       "      <td>No</td>\n",
       "      <td>Jayanagar</td>\n",
       "      <td>Casual Dining</td>\n",
       "      <td>800.0</td>\n",
       "      <td>Delivery</td>\n",
       "      <td>BTM</td>\n",
       "      <td>Success</td>\n",
       "    </tr>\n",
       "    <tr>\n",
       "      <th>30035</th>\n",
       "      <td>Yes</td>\n",
       "      <td>No</td>\n",
       "      <td>HSR</td>\n",
       "      <td>Cafe</td>\n",
       "      <td>600.0</td>\n",
       "      <td>Delivery</td>\n",
       "      <td>Koramangala 5th Block</td>\n",
       "      <td>Failure</td>\n",
       "    </tr>\n",
       "    <tr>\n",
       "      <th>18390</th>\n",
       "      <td>No</td>\n",
       "      <td>No</td>\n",
       "      <td>Ulsoor</td>\n",
       "      <td>Quick Bites</td>\n",
       "      <td>150.0</td>\n",
       "      <td>Delivery</td>\n",
       "      <td>Indiranagar</td>\n",
       "      <td>Failure</td>\n",
       "    </tr>\n",
       "    <tr>\n",
       "      <th>6974</th>\n",
       "      <td>No</td>\n",
       "      <td>No</td>\n",
       "      <td>Brookefield</td>\n",
       "      <td>Mess</td>\n",
       "      <td>300.0</td>\n",
       "      <td>Delivery</td>\n",
       "      <td>Brookefield</td>\n",
       "      <td>Failure</td>\n",
       "    </tr>\n",
       "    <tr>\n",
       "      <th>24054</th>\n",
       "      <td>Yes</td>\n",
       "      <td>No</td>\n",
       "      <td>Nagawara</td>\n",
       "      <td>Quick Bites</td>\n",
       "      <td>200.0</td>\n",
       "      <td>Delivery</td>\n",
       "      <td>Kalyan Nagar</td>\n",
       "      <td>Failure</td>\n",
       "    </tr>\n",
       "    <tr>\n",
       "      <th>17026</th>\n",
       "      <td>No</td>\n",
       "      <td>No</td>\n",
       "      <td>HSR</td>\n",
       "      <td>Quick Bites</td>\n",
       "      <td>200.0</td>\n",
       "      <td>Dine-out</td>\n",
       "      <td>HSR</td>\n",
       "      <td>Failure</td>\n",
       "    </tr>\n",
       "    <tr>\n",
       "      <th>32077</th>\n",
       "      <td>Yes</td>\n",
       "      <td>No</td>\n",
       "      <td>Koramangala 1st Block</td>\n",
       "      <td>Casual Dining, Bar</td>\n",
       "      <td>600.0</td>\n",
       "      <td>Pubs and bars</td>\n",
       "      <td>Koramangala 5th Block</td>\n",
       "      <td>Success</td>\n",
       "    </tr>\n",
       "    <tr>\n",
       "      <th>15957</th>\n",
       "      <td>Yes</td>\n",
       "      <td>No</td>\n",
       "      <td>Bellandur</td>\n",
       "      <td>Takeaway, Delivery</td>\n",
       "      <td>500.0</td>\n",
       "      <td>Delivery</td>\n",
       "      <td>HSR</td>\n",
       "      <td>Failure</td>\n",
       "    </tr>\n",
       "    <tr>\n",
       "      <th>34648</th>\n",
       "      <td>No</td>\n",
       "      <td>No</td>\n",
       "      <td>BTM</td>\n",
       "      <td>Quick Bites</td>\n",
       "      <td>200.0</td>\n",
       "      <td>Dine-out</td>\n",
       "      <td>Koramangala 6th Block</td>\n",
       "      <td>Failure</td>\n",
       "    </tr>\n",
       "    <tr>\n",
       "      <th>6273</th>\n",
       "      <td>No</td>\n",
       "      <td>No</td>\n",
       "      <td>Residency Road</td>\n",
       "      <td>Casual Dining</td>\n",
       "      <td>800.0</td>\n",
       "      <td>Dine-out</td>\n",
       "      <td>Brigade Road</td>\n",
       "      <td>Success</td>\n",
       "    </tr>\n",
       "    <tr>\n",
       "      <th>11786</th>\n",
       "      <td>Yes</td>\n",
       "      <td>No</td>\n",
       "      <td>Church Street</td>\n",
       "      <td>Quick Bites</td>\n",
       "      <td>200.0</td>\n",
       "      <td>Delivery</td>\n",
       "      <td>Church Street</td>\n",
       "      <td>Failure</td>\n",
       "    </tr>\n",
       "  </tbody>\n",
       "</table>\n",
       "</div>"
      ],
      "text/plain": [
       "      online_order book_table               location           rest_type  \\\n",
       "8848           Yes         No              Jayanagar       Casual Dining   \n",
       "30035          Yes         No                    HSR                Cafe   \n",
       "18390           No         No                 Ulsoor         Quick Bites   \n",
       "6974            No         No            Brookefield                Mess   \n",
       "24054          Yes         No               Nagawara         Quick Bites   \n",
       "17026           No         No                    HSR         Quick Bites   \n",
       "32077          Yes         No  Koramangala 1st Block  Casual Dining, Bar   \n",
       "15957          Yes         No              Bellandur  Takeaway, Delivery   \n",
       "34648           No         No                    BTM         Quick Bites   \n",
       "6273            No         No         Residency Road       Casual Dining   \n",
       "11786          Yes         No          Church Street         Quick Bites   \n",
       "\n",
       "        cost           type                   city prediction  \n",
       "8848   800.0       Delivery                    BTM    Success  \n",
       "30035  600.0       Delivery  Koramangala 5th Block    Failure  \n",
       "18390  150.0       Delivery            Indiranagar    Failure  \n",
       "6974   300.0       Delivery            Brookefield    Failure  \n",
       "24054  200.0       Delivery           Kalyan Nagar    Failure  \n",
       "17026  200.0       Dine-out                    HSR    Failure  \n",
       "32077  600.0  Pubs and bars  Koramangala 5th Block    Success  \n",
       "15957  500.0       Delivery                    HSR    Failure  \n",
       "34648  200.0       Dine-out  Koramangala 6th Block    Failure  \n",
       "6273   800.0       Dine-out           Brigade Road    Success  \n",
       "11786  200.0       Delivery          Church Street    Failure  "
      ]
     },
     "execution_count": 209,
     "metadata": {},
     "output_type": "execute_result"
    }
   ],
   "source": [
    "new_restaurant_success.sample(11)"
   ]
  },
  {
   "cell_type": "code",
   "execution_count": null,
   "id": "c471a660-bd76-4e00-938e-325a34682c14",
   "metadata": {},
   "outputs": [],
   "source": []
  }
 ],
 "metadata": {
  "kernelspec": {
   "display_name": "Python 3 (ipykernel)",
   "language": "python",
   "name": "python3"
  },
  "language_info": {
   "codemirror_mode": {
    "name": "ipython",
    "version": 3
   },
   "file_extension": ".py",
   "mimetype": "text/x-python",
   "name": "python",
   "nbconvert_exporter": "python",
   "pygments_lexer": "ipython3",
   "version": "3.12.2"
  }
 },
 "nbformat": 4,
 "nbformat_minor": 5
}
